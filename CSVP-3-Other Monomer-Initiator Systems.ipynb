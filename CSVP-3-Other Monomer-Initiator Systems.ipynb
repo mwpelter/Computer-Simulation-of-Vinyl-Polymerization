{
 "cells": [
  {
   "cell_type": "markdown",
   "id": "cca7b574",
   "metadata": {},
   "source": [
    "$ \\LARGE \\textbf {Computer Simulation of Vinyl Polymerization:} $\n",
    "\n",
    "$ \\LARGE \\textbf {An Exercise in Critical Thinking} $"
   ]
  },
  {
   "cell_type": "markdown",
   "id": "5b60a30f",
   "metadata": {},
   "source": [
    "<font color=red>Are you working from a COPY of the master file? Always make a copy of the Jupyter Notebook Master File. (Right-click copy, Right-click Rename (add your initials to the file name)). This is so when you mess up, you still have the original."
   ]
  },
  {
   "cell_type": "markdown",
   "id": "08776780",
   "metadata": {},
   "source": [
    "Execute the code cell below to run import statements that make available functions used in this notebook. Note that this first block should be executed before any other code blocks in the notebook."
   ]
  },
  {
   "cell_type": "code",
   "execution_count": null,
   "id": "a84f57f4",
   "metadata": {},
   "outputs": [],
   "source": [
    "import numpy as np\n",
    "import matplotlib.pyplot as plt\n",
    "from IPython.display import HTML\n",
    "from IPython.display import display, Math, Latex\n",
    "\n",
    "HTML('''<script>\n",
    "code_show=true;\n",
    "function code_toggle() {\n",
    " if (code_show){\n",
    " $('div.input').hide();\n",
    " } else {\n",
    " $('div.input').show();\n",
    " }\n",
    " code_show = !code_show\n",
    "}\n",
    "$( document ).ready(code_toggle);\n",
    "</script>\n",
    "<form action=\"javascript:code_toggle()\"><input type=\"submit\" value=\"Code\"></form>''')"
   ]
  },
  {
   "cell_type": "markdown",
   "id": "75d4eb5f",
   "metadata": {},
   "source": [
    "<font color=red>Click on the **Code** button above this line to make the code cells visable again, if needed.\n",
    "\n",
    "Run the code cell below and enter your name:"
   ]
  },
  {
   "cell_type": "code",
   "execution_count": null,
   "id": "4fab85db",
   "metadata": {},
   "outputs": [],
   "source": [
    "name = input(\"Name:    \")"
   ]
  },
  {
   "cell_type": "markdown",
   "id": "94774622",
   "metadata": {},
   "source": [
    "$ \\Large \\textbf {Part 3: Investigating Other Monomer/Initiator Systems} $\n",
    "\n",
    "With different olefins, $K_p$, $K_t$, and m will be different, as will $K_d$ values for initiator. The rate constants will also change with temperature. Since initiator efficiencies and termination modes are difficult to find, we will the initial values of 0.6 and 1.8, respectively. Input the appropriate values of Kp, Kt, and m determine the % conversion and MW for your assigned monomer/initiator system. Use values of [M] = 3 M and [I] = 0.005 M for your initial trial. Determine the conditions necessary to achieve 90% conversion and MW >30,000 at 8 hr. Values for the rate constants can be found below and in Appendix B of the handout. These are from the Polymer Handbook: J. Brandrup, E.H. Immergut, E.A. Grulke (Eds.); Wiley, New York, 1999.\n",
    "\n",
    "\n",
    "**Monomer Propagation and Termination Constants**\n",
    "\n",
    "|    Monomer          |    Temp (C)    |     kp(L/mol-s)     |    kt(L/mol-s)   |\n",
    "|:--------------------|:--------------:|:-------------------:|-----------------:|\n",
    "|  Acrylonitrile      |       60       |        1960         |      7.82e8      |\n",
    "|  Chloropropene      |       40       |         220         |      9.7e7       |\n",
    "|    Ethylene         |       60       |         242         |      5.4e8       |\n",
    "| Methyl acrylate     |       50       |        1000         |      3.5e7       |\n",
    "| Methyl methacrylate |       50       |         587         |      1.37e7   |\n",
    "| Styrene             |       50       |         209         |      1.15e8   |\n",
    "| Styrene             |       60       |        187.1        |     2.94e7    |\n",
    "| Vinyl acetate       |       50       |        2640         |     11.7e8       |\n",
    "| Vinyl chloride      |       50       |        1100         |     21.0e8       |\n",
    "| Tetrafluoroethylene |       40       |        7400         |      7.4e7       |\n",
    "| 2-vinylpyridine     |       25       |         186         |      3.3e7       |\n",
    "\n",
    "**Decomposition Rate Constants of Free Radical Initiators**\n",
    "\n",
    "|     Initiator                 |     Temp (C)     |     kd(1/s)     |\n",
    "|:------------------------------|:----------------:|----------------:|\n",
    "|        Acetyl peroxide        |       50         |      1.1e-6     |\n",
    "| 2,2'-Azo-bis-isobutyronitrile |       40         |      4.83e-7    |\n",
    "| 2,2'-Azo-bis-isobutyronitrile |       50         |      2.085e-6   |\n",
    "|       Benzoyl Peroxide        |       60         |      2.0e-6     |\n",
    "|  Phenyl azo triphenylmethane  |       25         |      4.29e-6    |\n",
    "|  Phenyl azo triphenylmethane  |       50         |      1.37e-4    |\n"
   ]
  },
  {
   "cell_type": "markdown",
   "id": "8e6bd265",
   "metadata": {},
   "source": [
    "Run the next code cell to input the variables from your assigned monomer/initiator system. You will enter your chosen initiator and monomer concentrations.\n",
    "\n",
    "(If your concentration yield the desired results you will need to **return to this point** and start over with new concentrations."
   ]
  },
  {
   "cell_type": "code",
   "execution_count": null,
   "id": "c14efde2",
   "metadata": {},
   "outputs": [],
   "source": [
    "m = input(\"Monomer name:   \")\n",
    "i =input(\"Initiator name:  \")\n",
    "T=input(\"Reaction Temperature:   \")\n",
    "kp=float(input(\"Rate Constant for Propagation:   \"))\n",
    "kt=float(input(\"Rate Constant for Termination:   \"))\n",
    "kd=float(input(\"Rate Constant for Decomposition:   \"))\n",
    "f=0.6\n",
    "z=1.8\n",
    "Io=float(input(\"Initial Initiator Concentration:   \"))\n",
    "Mo=float(input(\"Initial Monomer Concentration:   \"))\n",
    "m1=float(input(\"Molecular Weight of Monomer:   \"))\n",
    "\n",
    "print(\"                         \")\n",
    "print(\"CSVP-3\", m,\"/\",i, \"Values\")\n",
    "print(\"_______________\")\n",
    "print(\"Name of Monomer = \", m)\n",
    "print(\"Name of Initiator = \", i)\n",
    "print(\"Reaction Temperature\",T, \"C\")\n",
    "print(\"kp =\", kp, \"1/m-s\")\n",
    "print(\"kt =\", kt, \"1/m-s\")\n",
    "print(\"kd =\", kd, \"1/m-s\")\n",
    "print(\"Initiator efficiency =\", f)\n",
    "print(\"Termination Mode =\", z)\n",
    "print(\"Io =\", Io, \"M\")\n",
    "print(\"Mo =\", Mo, \"M\")\n",
    "print(\"Repeating Unit Weight =\" , m1, \"g/mol\")"
   ]
  },
  {
   "cell_type": "markdown",
   "id": "9266dd83",
   "metadata": {},
   "source": [
    "Run the next code cell to generate the plot of time vs % conversion."
   ]
  },
  {
   "cell_type": "code",
   "execution_count": null,
   "id": "a7200cd5",
   "metadata": {},
   "outputs": [],
   "source": [
    "#Time interval\n",
    "th = np.arange(0.0,12.0,0.2,dtype=float) #time in hours\n",
    "#np.arange creates a range of data between the set interval.\n",
    "# the format for this array is (start#,stop#,step#)\n",
    "\n",
    "t = th*3600 #time in hours was converted to seconds\n",
    "\n",
    "#Defining a function\n",
    "\n",
    "def func (t):\n",
    "    return (2*kp/kd)*((f*kd*Io/kt)**(1/2))*(np.exp(-kd*t/2)-1)\n",
    "\n",
    "func_v = func(t)\n",
    "\n",
    "\n",
    "MMo=np.exp(func_v)\n",
    "\n",
    "\n",
    "con=(1-MMo)*100\n",
    "x1=th\n",
    "y=con\n",
    "\n",
    "plt.figure(figsize=(8,8))\n",
    "plt.plot(x1,y)\n",
    "plt.xlabel(\"Time in hours\")\n",
    "plt.ylabel(\"Conversion %\")\n",
    "plt.title(\"CSVP-3: Polymer % Conversion\")\n",
    "plt.grid()\n",
    "ax = plt.gca()\n",
    "ax.set_ylim([0,100])\n",
    "ax.set_xlim([0,10])\n",
    "\n",
    "ax.text(0.05, 0.95, name, transform=ax.transAxes, fontsize=14,\n",
    "        verticalalignment='top')\n",
    "ax.text(0.05, 0.90, m, transform=ax.transAxes, fontsize=14,\n",
    "        verticalalignment='top')\n",
    "ax.text(0.05, 0.85, i, transform=ax.transAxes, fontsize=14,\n",
    "        verticalalignment='top')\n",
    "\n",
    "# This line saves the figure to a file.  The savefig command must be called before the show command if both are used with the same plot.\n",
    "plt.savefig('CSVP-3conv.png', dpi=300, bbox_inches='tight')\n",
    "\n",
    "plt.show()"
   ]
  },
  {
   "cell_type": "markdown",
   "id": "2f9cbe12",
   "metadata": {},
   "source": [
    "Run the next code cell to generate the plot of time vs molecular weight. NOTE: The y-axis goes from 0 to 100,000."
   ]
  },
  {
   "cell_type": "code",
   "execution_count": null,
   "id": "7a6afc62",
   "metadata": {},
   "outputs": [],
   "source": [
    "th = np.arange(0.0,12.0,0.2,dtype=float) #time in hours\n",
    "#np.arange creates a range of data between the set interval.\n",
    "# the format for this array is (start#,stop#,step#)\n",
    "\n",
    "t = th*3600 #time in hours was converted to seconds\n",
    "\n",
    "def func (x):\n",
    "    return (2*kp/kd)*((f*kd*Io/kt)**(1/2))*(np.exp(-kd*x/2)-1)\n",
    "\n",
    "func_v = func(t)\n",
    "\n",
    "\n",
    "MMo=np.exp(func_v)\n",
    "\n",
    "np.seterr(divide='ignore', invalid='ignore')\n",
    "\n",
    "MMo2=np.array(MMo)\n",
    "\n",
    "M=MMo*Mo\n",
    "\n",
    "I=Io*np.exp(-kd*t)\n",
    "\n",
    "\n",
    "Mn=((Mo-M)/(f*z*(Io-I)))*100\n",
    "\n",
    "plt.figure(figsize=(8,8))\n",
    "plt.plot(th,Mn)\n",
    "plt.xlabel(\"Time in hours\")\n",
    "plt.ylabel(\"Molecular Weight\")\n",
    "plt.title(\"CSVP-3: Polymer Molecular Weight\")\n",
    "plt.grid()\n",
    "ax = plt.gca()\n",
    "ax.set_ylim([0,1e5]) # This line sets the Y axis limits.\n",
    "ax.set_xlim([0,10])\n",
    "\n",
    "ax.text(0.05, 0.95, name, transform=ax.transAxes, fontsize=14,\n",
    "        verticalalignment='top')\n",
    "ax.text(0.05, 0.90, m, transform=ax.transAxes, fontsize=14,\n",
    "        verticalalignment='top')\n",
    "ax.text(0.05, 0.85, i, transform=ax.transAxes, fontsize=14,\n",
    "        verticalalignment='top')\n",
    "\n",
    "# This line saves the figure to a file.  The savefig command must be called before the show command if both are used with the same plot.\n",
    "plt.savefig('CSVP-3MW.png', dpi=300, bbox_inches='tight')\n",
    "\n",
    "plt.show()"
   ]
  },
  {
   "cell_type": "markdown",
   "id": "3abea81e",
   "metadata": {},
   "source": [
    "<font color=red> **How does your graph look? Missing a line?** Run the next cell and look at the molecular weight data. If your molecular weight are above 100,00, you need to adjust the code so the data is visible.\n",
    "\n",
    "<font color=red> Look for the line <font color=green> \"ax.set_ylim([1e4,1e5]) # This line sets the Y axis limit\" <font color=red> in the code cell above. Change the second number to <font color=green> 2e6 <font color=red> and rerun the cell.\n",
    "\n",
    "You will need to change this back to 1e5 as you get closer to your goal of 30,000."
   ]
  },
  {
   "cell_type": "markdown",
   "id": "40e5ad36",
   "metadata": {},
   "source": [
    "Run the next code cell to generate a table of data from the above 2 plots. You will need this data for your report."
   ]
  },
  {
   "cell_type": "code",
   "execution_count": null,
   "id": "689586fe",
   "metadata": {},
   "outputs": [],
   "source": [
    "time = np.round(np.array(th))\n",
    "molecular_weight = np.round(np.array(Mn), decimals=1)\n",
    "conversion = np.round(np.array(con), decimals=1)\n",
    "\n",
    "print(\"Monomer =\", m, \"& Initiator =\", i)\n",
    "print(\"Hour\",\"Molecular Weight\",\"Conversion\",sep='  ')\n",
    "\n",
    "def c_function(time_step, time, molecular_weight, conversion):\n",
    "    \"\"\"This function takes a time step and returns a printed string with a summary of the vars\"\"\"\n",
    "    print(time[time_step],molecular_weight[time_step], conversion[time_step],sep=\"        \")\n",
    "for time_step in list(range(6,56,5)):\n",
    "    c_function(time_step, time, molecular_weight, conversion)"
   ]
  },
  {
   "cell_type": "markdown",
   "id": "063b08fa",
   "metadata": {},
   "source": [
    "**Record the [I], [M], % conversion @ 8h, and molecular weight @ 8h for your report** in the table below by double clicking on the table. Replace the **x** in each cell with the values you used/calculated in each trial. Don't worry about the spacing when typing. Click **Run** to continue with the activity.\n",
    "\n",
    "\n",
    "|  Trial # |  [I]   | [M]    | % Conv @ 8h    |  MW @ 8h |\n",
    "|:--------:|:------:|:------:|:--------------:|:----------:|\n",
    "| 1        | x      | x      | x              | x        |\n",
    "| 2        | x      | x      | x              | x        |\n",
    "| 3        | x      | x      | x              | x        |\n",
    "| 4        | x      | x      | x              | x        |\n",
    "| 5        | x      | x      | x              | x        |\n",
    "| 6        | x      | x      | x              | x        |\n",
    "| 7        | x      | x      | x              | x        |\n",
    "| 8        | x      | x      | x              | x        |\n",
    "| 9        | x      | x      | x              | x        |\n",
    "| 10       | x      | x      | x              | x        |"
   ]
  },
  {
   "cell_type": "markdown",
   "id": "e80b37b3",
   "metadata": {},
   "source": [
    "$ \\Large \\textbf {Did you achieve your goal of 90% conversion and MW >30,000 at 8 hours?} $\n",
    "\n",
    "If **YES**, download the plot files CSVP-3conv.png and CSVP-3MW.png, as your did in CSVP-2.  You will need to transcribe your trial data, as this table is not set up to copy and paste nicely. You can copy and paste the individual entries or use the snipping tool to capture the entire table.\n",
    "\n",
    "Print the output to a PDF file, as you will need to submit this with your report.  and move on to Part 4!\n",
    "\n",
    "If **NO** start over by scrolling up to where you entered the concentrations and try again."
   ]
  },
  {
   "cell_type": "markdown",
   "id": "c99a2961",
   "metadata": {},
   "source": [
    "**References**\n",
    "\n",
    "Stevens, M. P. “Polymer Chemistry, an Introduction.\" 3rd ed.; Oxford University Press: New York, 1999. Chapter 6.\n",
    "\n",
    "Odian, G. “Principles of Polymerization,\" 4th ed., John Wiley: New York. 2004, Chapter 3.\n",
    "\n",
    "Carraher, C. E., “Carraher’s Polymer Chemistry,” 10th ed.; CRC Press: Boca Raton, 2018. Chapter 6.\n",
    "\n",
    "Allcock, H. R.: Lampe. F. W.; Mark, J. E. \"Contemporary Polymer Chemistry,\" 3rd ed.; Prentice-Hall: New Jersey, 2003, Chapter 12.\n",
    "\n",
    "Billmeyer. E W. Jr, \"Textbook of Polymer Science., Wiley-Interscience: New York, 1971, Chapter 9.\n",
    "\n",
    "Chandra, M. “Introduction to Polymer Science and Chemistry,” 2nd ed. CRC Press: Boca Raton, 2013, Chapter 6.\n",
    "\n",
    "Elias, H. –G. “An Introduction to Polymer Science,” VCH Publishers: New York, 1997, Chapter 3.\n",
    "\n",
    "Brandrup, J., Immergut, E., Grulke, E. A. “Polymer Handbook”, 4th ed. Wiley: New York. 1999, pp II/1 - II/91."
   ]
  }
 ],
 "metadata": {
  "kernelspec": {
   "display_name": "Python 3 (ipykernel)",
   "language": "python",
   "name": "python3"
  },
  "language_info": {
   "codemirror_mode": {
    "name": "ipython",
    "version": 3
   },
   "file_extension": ".py",
   "mimetype": "text/x-python",
   "name": "python",
   "nbconvert_exporter": "python",
   "pygments_lexer": "ipython3",
   "version": "3.9.7"
  }
 },
 "nbformat": 4,
 "nbformat_minor": 5
}
