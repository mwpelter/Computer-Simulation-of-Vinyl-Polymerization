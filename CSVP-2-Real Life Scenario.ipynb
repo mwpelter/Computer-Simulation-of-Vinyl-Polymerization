{
 "cells": [
  {
   "cell_type": "markdown",
   "id": "592af79e",
   "metadata": {},
   "source": [
    "$ \\LARGE \\textbf {Computer Simulation of Vinyl Polymerization:} $\n",
    "\n",
    "$ \\LARGE \\textbf {An Exercise in Critical Thinking} $"
   ]
  },
  {
   "cell_type": "markdown",
   "id": "a72c8873",
   "metadata": {},
   "source": [
    "<font color=red>Are you working from a COPY of the master file? Always make a copy of the Jupyter Notebook Master File. (Right-click copy, Right-click Rename (add your initials to the file name)). This is so when you mess up, you still have the original."
   ]
  },
  {
   "cell_type": "markdown",
   "id": "55c435c2",
   "metadata": {},
   "source": [
    "Execute the code cell below to run import statements that make available functions used in this notebook. Note that this first block should be executed before any other code blocks in the notebook."
   ]
  },
  {
   "cell_type": "code",
   "execution_count": null,
   "id": "5400d4dd",
   "metadata": {},
   "outputs": [],
   "source": [
    "import numpy as np\n",
    "import matplotlib.pyplot as plt\n",
    "from IPython.display import HTML\n",
    "from IPython.display import display, Math, Latex\n",
    "\n",
    "HTML('''<script>\n",
    "code_show=true;\n",
    "function code_toggle() {\n",
    " if (code_show){\n",
    " $('div.input').hide();\n",
    " } else {\n",
    " $('div.input').show();\n",
    " }\n",
    " code_show = !code_show\n",
    "}\n",
    "$( document ).ready(code_toggle);\n",
    "</script>\n",
    "<form action=\"javascript:code_toggle()\"><input type=\"submit\" value=\"Code\"></form>''')"
   ]
  },
  {
   "cell_type": "markdown",
   "id": "c00e2555",
   "metadata": {},
   "source": [
    "<font color=red>Click on the **Code** button above this line to make the code cells visable again, if needed."
   ]
  },
  {
   "cell_type": "markdown",
   "id": "7734efa2",
   "metadata": {},
   "source": [
    "Run the code cell below and enter your name:"
   ]
  },
  {
   "cell_type": "code",
   "execution_count": null,
   "id": "8e7ae0fc",
   "metadata": {},
   "outputs": [],
   "source": [
    "name = input(\"Name:    \")"
   ]
  },
  {
   "cell_type": "markdown",
   "id": "e6b875d9",
   "metadata": {},
   "source": [
    "$ \\Large \\textbf {Part 2: The \"Real Life\" Scenario} $\n",
    "\n",
    "Your assignment in the experiment illustrates the practical utility of these equations. You are now the industrial chemist in charge of making Plexiglas. You know that polymerization is an exothermic process. You also know that an exothermic reaction which releases all its energy in a short period of time is called an explosion. Consequently, you realize that the polymerization must be carried out over 8 hours so that the heat generated can be dissipated by your cooling bath as well as the surrounding air. You also know that time is money. Every hour that an operator spends over the reaction puts $100.00 in his pocket which must be added to the cost of the product to avoid bankruptcy. Yet no one will buy it if it's too expensive.\n",
    "\n",
    "Your primary problem is then to select the conditions which will give 90 percent conversion in 8 hours. If times are longer, you will lose your job; if times are shorter, possibly your life!\n",
    "\n",
    "Your secondary problem is molecular weight. As stated previously, polymers must possess molecular weights >30,000 in order to exhibit good physical properties. Therefore, you must make certain that the polymerization conditions you select yield a molecular weight>30,000.\n",
    "\n",
    "Your third problem is control. You must monitor the reaction over the entire 8 hours so that if you discover that something is causing it to react faster than desired, it can be modified or terminated before it explodes. Take a few minutes to consider a solution before proceeding.\n",
    "\n",
    "One solution is as follows: Arbitrarily select a set of conditions and determine the conversion at 8 hours using the following equations (1) and (2). By modifying the variables and recalculating, zero in on the exact conditions necessary to achieve 90 percent conversion at 8 hours. Using equation (3), calculate the molecular weight at this point. If <30,000 repeat this process until a molecular weight >30,000 is achieved.\n",
    "\n",
    "You have a one-liter solution of ?? M methyl methacrylate is heated to 50ºC. Benzoyl peroxide (??? moles) is added and the monomer allowed to polymerize. You will use the initial values, changing only [I] and [M].\n",
    "\n",
    ">Propagation rate constant = 587 1/m-s\n",
    "\n",
    ">Termination rate constant = 1.37e7 1/m-s\n",
    "\n",
    ">Decomposition rate constant for initiator = 9.16e-7\n",
    "\n",
    ">Initiator efficiency = 0.6\n",
    "\n",
    ">Termination mode = 1.8\n",
    "\n",
    "Using the knowledge that you've gained to determine the [M] and [I] reguired to achieve 90 percent conversion and MW>30,000 at 8 hr."
   ]
  },
  {
   "cell_type": "markdown",
   "id": "47e47d0f",
   "metadata": {},
   "source": [
    "Run the next code cell to load the variables from above. You will enter your chosen initiator and monomer concentrations.\n",
    "\n",
    "(If your concentration yield the desired results you will need to **return to this point** and start over with new concentrations."
   ]
  },
  {
   "cell_type": "code",
   "execution_count": null,
   "id": "148aefad",
   "metadata": {},
   "outputs": [],
   "source": [
    "th = np.arange(0.0,12.0,0.2,dtype=float)\n",
    "t = th*3600\n",
    "\n",
    "kp=587\n",
    "kt=1.37e7\n",
    "kd=9.16e-7\n",
    "f=0.6\n",
    "z=1.8\n",
    "T=50\n",
    "\n",
    "Mo = float(input(\"Initial Monomer Concentration:   \"))\n",
    "Io = float(input(\"Initial Initiator Concentration:  \"))\n",
    "\n",
    "print(\"Real Life Scenario Variables\")\n",
    "print(\"_____________________________________________\")\n",
    "print(\"Propagation Rate Constant = \", kp, \"1/m-s\")\n",
    "print(\"Termination Rate Constant=\", np.format_float_scientific(kt,2), \"1/m-s\")\n",
    "print(\"Decomposition rate constant = \", kd, \"1/m-s\")\n",
    "print(\"Initiator efficiency\", f)\n",
    "print(\"Termination Mode\", z)\n",
    "print(\"Initial Initiator Concentration\", Io ,\"M\")\n",
    "print(\"Initial Monomer Concentration\", Mo, \"M\")"
   ]
  },
  {
   "cell_type": "markdown",
   "id": "e4dbef28",
   "metadata": {},
   "source": [
    "Run the next code cell to generate the plot of time vs % conversion."
   ]
  },
  {
   "cell_type": "code",
   "execution_count": null,
   "id": "50d4612a",
   "metadata": {},
   "outputs": [],
   "source": [
    "def func (x):\n",
    "    return (2*kp/kd)*((f*kd*Io/kt)**(1/2))*(np.exp(-kd*x/2)-1)\n",
    "\n",
    "func_v = func(t)\n",
    "\n",
    "\n",
    "MMo=np.exp(func_v)\n",
    "\n",
    "\n",
    "con=(1-MMo)*100\n",
    "x1=th\n",
    "y=con\n",
    "\n",
    "plt.figure(figsize=(8,8))\n",
    "plt.plot(x1,y)\n",
    "plt.xlabel(\"Time in hours\")\n",
    "plt.ylabel(\"Conversion %\")\n",
    "plt.title(\"CSVP-2: Polymer % Conversion\")\n",
    "plt.grid()\n",
    "ax = plt.gca()\n",
    "ax.set_ylim([0,100])\n",
    "ax.set_xlim([0,10])\n",
    "\n",
    "ax.text(0.05, 0.95, name, transform=ax.transAxes, fontsize=14,\n",
    "        verticalalignment='top')\n",
    "\n",
    "# This line saves the figure to a file.  The savefig command must be called before the show command if both are used with the same plot.\n",
    "plt.savefig('CSVP-2conv.png', dpi=300, bbox_inches='tight')\n",
    "\n",
    "plt.show()"
   ]
  },
  {
   "cell_type": "markdown",
   "id": "fc3e23db",
   "metadata": {},
   "source": [
    "Run the next code cell to generate the plot of time vs molecular weight. NOTE: The y-axis goes from 0 to 100,000."
   ]
  },
  {
   "cell_type": "code",
   "execution_count": null,
   "id": "8cd980ae",
   "metadata": {},
   "outputs": [],
   "source": [
    "np.seterr(divide='ignore', invalid='ignore')\n",
    "\n",
    "MMo2=np.array(MMo)\n",
    "\n",
    "M=MMo*Mo\n",
    "\n",
    "I=Io*np.exp(-kd*t)\n",
    "\n",
    "\n",
    "Mn1=((Mo-M)/(f*z*(Io-I)))*100\n",
    "\n",
    "plt.figure(figsize=(8,8))\n",
    "plt.plot(th,Mn1)\n",
    "plt.xlabel(\"Time in hours\")\n",
    "plt.ylabel(\"Molecular Weight\")\n",
    "plt.title(\"CSVP-2: Polymer Molecular Weight\")\n",
    "plt.grid()\n",
    "ax = plt.gca()\n",
    "ax.set_ylim([1e4,1e5]) # This line sets the Y axis limits\n",
    "ax.set_xlim([0,10])\n",
    "\n",
    "ax.text(0.05, 0.95, name, transform=ax.transAxes, fontsize=14,\n",
    "        verticalalignment='top')\n",
    "\n",
    "# This line saves the figure to a file.  The savefig command must be called before the show command if both are used with the same plot.\n",
    "plt.savefig('CSVP-2MW.png', dpi=300, bbox_inches='tight')\n",
    "\n",
    "plt.show()"
   ]
  },
  {
   "cell_type": "markdown",
   "id": "63b5be5f",
   "metadata": {},
   "source": [
    "<font color=red> **How does your graph look? Missing a line?** Run the next cell and look at the molecular weight data. If your molecular weight are above 10,000, you need to adjust the code so the data is visible.\n",
    "\n",
    "<font color=red> Look for the line <font color=green> \"ax.set_ylim([1e4,1e5]) # This line sets the Y axis limit\" <font color=red> in the code cell above. Change the second number to <font color=green> 1e6 <font color=red> and rerun the cell.\n",
    "\n",
    "You will need to change this back to 1e5 as you get closer to your goal of 30,000."
   ]
  },
  {
   "cell_type": "markdown",
   "id": "fe8127d5",
   "metadata": {},
   "source": [
    "Run the next code cell to generate a table of data from the above 2 plots. You will need this data for your report."
   ]
  },
  {
   "cell_type": "code",
   "execution_count": null,
   "id": "3bcff8ce",
   "metadata": {},
   "outputs": [],
   "source": [
    "time = np.round(np.array(th))\n",
    "molecular_weight = np.round(np.array(Mn1), decimals=1)\n",
    "conversion = np.round(np.array(con), decimals=1)\n",
    "\n",
    "print(\"Real Life Scenario Results\")\n",
    "print(\"Hour\",\"Molecular Weight\",\"Conversion\",sep='  ')\n",
    "\n",
    "def c_function(time_step, time, molecular_weight, conversion):\n",
    "    \"\"\"This function takes a time step and returns a printed string with a summary of the vars\"\"\"\n",
    "    print(time[time_step],molecular_weight[time_step], conversion[time_step],sep=\"        \")\n",
    "for time_step in list(range(6,56,5)):\n",
    "    c_function(time_step, time, molecular_weight, conversion)\n"
   ]
  },
  {
   "cell_type": "markdown",
   "id": "c84e5301",
   "metadata": {},
   "source": [
    "**Record the [I], [M], % conversion @ 8h, and molecular weight @ 8h for your report** in the table below by double clicking on the table. Replace the **x** in each cell with the values you used/calculated in each trial. Don't worry about the spacing when typing. Click **Run** to continue with the activity.\n",
    "\n",
    "\n",
    "|  Trial # |  [I]   | [M]    | % Conv @ 8h    |  MW @ 8h |\n",
    "|:--------:|:------:|:------:|:--------------:|:----------:|\n",
    "| 1        | x      | x      | x              | x        |\n",
    "| 2        | x      | x      | x              | x        |\n",
    "| 3        | x      | x      | x              | x        |\n",
    "| 4        | x      | x      | x              | x        |\n",
    "| 5        | x      | x      | x              | x        |\n",
    "| 6        | x      | x      | x              | x        |\n",
    "| 7        | x      | x      | x              | x        |\n",
    "| 8        | x      | x      | x              | x        |\n",
    "| 9        | x      | x      | x              | x        |\n",
    "| 10       | x      | x      | x              | x        |"
   ]
  },
  {
   "cell_type": "markdown",
   "id": "f2203dba",
   "metadata": {},
   "source": [
    "$ \\Large \\textbf {Did you achieve your goal of 90% conversion and MW>30,000 at 8 hours?}$\n",
    "\n",
    "If **YES**, download the plot files CSVP-2conv.png and CSVP-2MW.png, as your did in CSVP-1.  You will need to transcribe your trial data, as this table is not set up to copy and paste nicely. You can copy and paste the individual entries or use the snipping tool to capture the entire table.\n",
    "\n",
    "Print the output to a PDF file, as you will need to submit this with your report.  and move on to Part 3!\n",
    "\n",
    "If **NO** start over by scrolling up to where you entered the concentrations and try again."
   ]
  },
  {
   "cell_type": "markdown",
   "id": "65fd7fc0",
   "metadata": {},
   "source": [
    "**References**\n",
    "\n",
    "Stevens, M. P. “Polymer Chemistry, an Introduction.\" 3rd ed.; Oxford University Press: New York, 1999. Chapter 6.\n",
    "\n",
    "Odian, G. “Principles of Polymerization,\" 4th ed., John Wiley: New York. 2004, Chapter 3.\n",
    "\n",
    "Carraher, C. E., “Carraher’s Polymer Chemistry,” 10th ed.; CRC Press: Boca Raton, 2018. Chapter 6.\n",
    "\n",
    "Allcock, H. R.: Lampe. F. W.; Mark, J. E. \"Contemporary Polymer Chemistry,\" 3rd ed.; Prentice-Hall: New Jersey, 2003, Chapter 12.\n",
    "\n",
    "Billmeyer. E W. Jr, \"Textbook of Polymer Science., Wiley-Interscience: New York, 1971, Chapter 9.\n",
    "\n",
    "Chandra, M. “Introduction to Polymer Science and Chemistry,” 2nd ed. CRC Press: Boca Raton, 2013, Chapter 6.\n",
    "\n",
    "Elias, H. –G. “An Introduction to Polymer Science,” VCH Publishers: New York, 1997, Chapter 3."
   ]
  }
 ],
 "metadata": {
  "kernelspec": {
   "display_name": "Python 3 (ipykernel)",
   "language": "python",
   "name": "python3"
  },
  "language_info": {
   "codemirror_mode": {
    "name": "ipython",
    "version": 3
   },
   "file_extension": ".py",
   "mimetype": "text/x-python",
   "name": "python",
   "nbconvert_exporter": "python",
   "pygments_lexer": "ipython3",
   "version": "3.9.7"
  }
 },
 "nbformat": 4,
 "nbformat_minor": 5
}
