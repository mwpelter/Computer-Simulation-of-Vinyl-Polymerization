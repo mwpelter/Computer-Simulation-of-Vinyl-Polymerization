{
 "cells": [
  {
   "cell_type": "markdown",
   "id": "9135415a",
   "metadata": {},
   "source": [
    "$ \\LARGE \\textbf {Computer Simulation of Vinyl Polymerization:} $\n",
    "\n",
    "$ \\LARGE \\textbf {An Exercise in Critical Thinking} $"
   ]
  },
  {
   "cell_type": "markdown",
   "id": "51bb7fc6",
   "metadata": {},
   "source": [
    "<font color=red>Are you working from a COPY of the master file? Always make a copy of the Jupyter Notebook Master File. Click on **File** then **Make a copy... **Close** this file and open the copy. (This is so when you mess up, you still have the original.) You may want to rename the copy to include your initials in the name."
   ]
  },
  {
   "cell_type": "markdown",
   "id": "37a5f629",
   "metadata": {},
   "source": [
    "A jupyter notebook is composed of two different components: white cells that contain text (like this one), and shaded cells that contain code (like the one below). As you work through this notebook, you will need to execute each code cell by first clicking on the shaded area and then the play button that appears at the top left corner before moving on to the next cell.\n",
    "\n",
    "1.   Execute the code cell below to run import statements that make available functions used in this notebook. Note that this first block should be executed before any other code blocks in the notebook.\n",
    "2.   To input your answers to the questions, run the code cell, fill in the blanks provided and press 'Enter'\n",
    "3.  If you'd like to change your answer to a question or graph, you need to click on the x to clear the output and rerun the code cell(s)."
   ]
  },
  {
   "cell_type": "code",
   "execution_count": 2,
   "id": "50bd213e",
   "metadata": {
    "scrolled": true
   },
   "outputs": [
    {
     "data": {
      "text/html": [
       "<script>\n",
       "code_show=true;\n",
       "function code_toggle() {\n",
       " if (code_show){\n",
       " $('div.input').hide();\n",
       " } else {\n",
       " $('div.input').show();\n",
       " }\n",
       " code_show = !code_show\n",
       "}\n",
       "$( document ).ready(code_toggle);\n",
       "</script>\n",
       "<form action=\"javascript:code_toggle()\"><input type=\"submit\" value=\"Code\"></form>"
      ],
      "text/plain": [
       "<IPython.core.display.HTML object>"
      ]
     },
     "execution_count": 2,
     "metadata": {},
     "output_type": "execute_result"
    }
   ],
   "source": [
    "import numpy as np\n",
    "import matplotlib.pyplot as plt\n",
    "from IPython.display import HTML\n",
    "from IPython.display import display, Math, Latex\n",
    "\n",
    "HTML('''<script>\n",
    "code_show=true;\n",
    "function code_toggle() {\n",
    " if (code_show){\n",
    " $('div.input').hide();\n",
    " } else {\n",
    " $('div.input').show();\n",
    " }\n",
    " code_show = !code_show\n",
    "}\n",
    "$( document ).ready(code_toggle);\n",
    "</script>\n",
    "<form action=\"javascript:code_toggle()\"><input type=\"submit\" value=\"Code\"></form>''')"
   ]
  },
  {
   "cell_type": "markdown",
   "id": "b53b01b2",
   "metadata": {},
   "source": [
    "<font color=red>Click on the **Code** button above this line to make the code cells be visable again."
   ]
  },
  {
   "cell_type": "markdown",
   "id": "3e2fa40c",
   "metadata": {},
   "source": [
    "In this activity you will investigate the composition of a vinyl copolymer produced through a free-radical polymerization. In Part A, you will be using the reactivity ratios for the pair of monomers and, in Part B, you will the Alfrey-Price Q-e values for the individual monomers."
   ]
  },
  {
   "cell_type": "markdown",
   "id": "851c4ae4",
   "metadata": {},
   "source": [
    "$ \\Large \\textbf {Learning Outcomes} $\n",
    "\n",
    "Upon completing this activity (CSVP-4), students will be able to\n",
    "\n",
    "*   Understand the usefulness of reactivity ratios and identify the composition of the copolymer produced.\n",
    "*   Understand the usefulness of Alfrey-Price *Q-e* values and identify the composition of the copolymer produced."
   ]
  },
  {
   "cell_type": "markdown",
   "id": "2fe43346",
   "metadata": {},
   "source": [
    "**Run the code cell below and enter your name:**"
   ]
  },
  {
   "cell_type": "code",
   "execution_count": null,
   "id": "5744b8d3",
   "metadata": {},
   "outputs": [],
   "source": [
    "name = input(\"Name:    \")"
   ]
  },
  {
   "cell_type": "markdown",
   "id": "f7bc748e",
   "metadata": {},
   "source": [
    "$ \\Large \\textbf {Part A: Reactivity Ratios} $"
   ]
  },
  {
   "cell_type": "markdown",
   "id": "308385d3",
   "metadata": {},
   "source": [
    "The reactivity ratios are used to calculate the mole fraction of monomer 1 in the monomer feed and in the polymer using the following equation:\n",
    "\n",
    "$\\LARGE F_{1} = \\frac {r_{1}f^{2}_{1}+f_{1}f_{2}}{r_{1}f^{2}_{1}+2f_{1}f_{2}+r_{2}f^{2}_{2}} $\n",
    "\n",
    "where:\n",
    "\n",
    "$f_{1}$ is the mole fraction of monomer 1 in the feed\n",
    "\n",
    "$F_{1}$ is the mole fraction of monomer 1 in the copolymer\n",
    "\n",
    "$r_{1}$ is the reactivity ratio of monomer 1\n",
    "\n",
    "$r_{2}$ is the reactivity ratio of monomer 2\n"
   ]
  },
  {
   "cell_type": "markdown",
   "id": "d12800c0",
   "metadata": {},
   "source": [
    "This exercise is designed to you think about the copolymerization process and the reactivity preference of each monomer. Several scenarios are shown below:"
   ]
  },
  {
   "cell_type": "markdown",
   "id": "9bd172b5",
   "metadata": {},
   "source": [
    "\n",
    "\n",
    "\n",
    "1.   $r_{1}$ = $r_{2}$ = **1**.\n",
    "2.   $r_{1}$ = $r_{2} \\cong$ **0**.\n",
    "3.   $r_{1}$ is >> **1** and $r_{2}$ is << **1**.\n",
    "4.   **0** < $r_{1},r_{2}$ < **1**\n",
    "5.   $r_{1} \\cdot r_{2}$ = **1**\n"
   ]
  },
  {
   "cell_type": "markdown",
   "id": "f34c4338",
   "metadata": {},
   "source": [
    "Using the table of reactivity ratios provided in Appendix C of the Handout, find a pair that fit one of the scenarios listed above. Instructions are provided below for how to capture the plot for your report. You will need to explain the meaning of the plot with respect to the composition of the polymer produced. You may use the lecture notes and text to help you get started with the explaination. (If you want more reactivity ratios, consult the \"Polymer Handbook.\" You will find 106 pages of polymer pairs!)"
   ]
  },
  {
   "cell_type": "markdown",
   "id": "1b4bcae0",
   "metadata": {},
   "source": [
    "Run the next cell to enter the names of the monomers and *r*.\n",
    "\n",
    "(Later you will need to **return to this point** to enter the information for each the remaining polymer pairs.)"
   ]
  },
  {
   "cell_type": "code",
   "execution_count": null,
   "id": "7c53f83d",
   "metadata": {},
   "outputs": [],
   "source": [
    "# Enter the monomer names and variables\n",
    "m1 = input(\"Name of monomer 1?     \")\n",
    "r1=float(input(\"Reactivity ratio of monomer 1=      \"))\n",
    "m2 = input(\"Name of monomer 2?     \")\n",
    "r2=float(input(\"Reactivity ratio of monomer 2=      \"))\n",
    "\n",
    "\n",
    "# Generate the graph\n",
    "f1=np.arange(0,1.1,0.1)\n",
    "f2=1-f1\n",
    "F1=((r1*f1**2)+(f1*f2))/((r1*f1**2)+(2*f1*f2)+(r2*f2**2))\n",
    "fig, ax = plt.subplots()\n",
    "plt.grid()\n",
    "ax.plot(f1,F1)\n",
    "ax.set(xlabel='Fraction of '+m1+' in feed', ylabel='Fraction of '+m1+' in polymer', title='Copolymerization of '+m1+' and '+m2+'')\n",
    "\n",
    "ax.text(0.05, 0.95, name, transform=ax.transAxes, fontsize=12,\n",
    "       verticalalignment='top')\n",
    "\n",
    "plt.show()"
   ]
  },
  {
   "cell_type": "markdown",
   "id": "80e32be8",
   "metadata": {},
   "source": [
    "You now need to use the **snipping tool** to capture the plot and the r values. You will be doing the calculation multiple times and will generate a new plot each time. You **must** capture the plot each time."
   ]
  },
  {
   "cell_type": "markdown",
   "id": "d32ec794",
   "metadata": {},
   "source": [
    "<font color=red>Once you have a plot saved for each of the **FIVE** scenarios, you may proceed to Part B."
   ]
  },
  {
   "cell_type": "markdown",
   "id": "56a77787",
   "metadata": {},
   "source": [
    "$ \\Large \\textbf {Part B: Alfrey-Price Q-e Scheme} $"
   ]
  },
  {
   "cell_type": "markdown",
   "id": "abaab6c1",
   "metadata": {},
   "source": [
    "Alfrey-Price Q-e values are used to calculate the reactivity ratios for the monomers using the following equation:\n",
    "\n",
    "$ \\LARGE r_{1} = \\frac{Q_{1}}{Q_{2}} exp(-e_{1}[e_{1}-e_{2}]) $\n",
    "\n",
    "$ \\LARGE r_{2} = \\frac{Q_{2}}{Q_{1}} exp(-e_{2}[e_{2}-e_{1}]) $\n",
    "\n",
    "where: Q1 and Q2 are measures of reactivity of respective monomers and are related to resonance stabilization of the monomer, and e1 and e2 are measures of the polarity of the respective monomers. The *Q-e* scheme neglects steric factors, but it is useful when data for r1 and r2 are not available.\n",
    "\n",
    "Styrene was chosen as the standard and assigned values of *Q* = 1.00 and *e* = -0.8. Values of *Q* are higher for monomers that have higher resonance stabilization of the radical, while values of *e* are more negative with electron-rich double bonds.\n",
    "\n",
    "In this activity, you will Use the *Q* and *e* values found in Appendix D of the handout, identify monomer pairs that predict the following copolymers:\n",
    "\n",
    "1.   homopolymer/block copolymer\n",
    "2.   alternating copolymer\n",
    "1.   azeotropic copolymer\n",
    "2.   random copolymer\n",
    "1.   ideal copolymer\n",
    "\n",
    "You may **NOT** use any of the monomer pairs found in Appendix C."
   ]
  },
  {
   "cell_type": "markdown",
   "id": "60df7298",
   "metadata": {},
   "source": [
    "Run the next cell to enter the names of the monomers and r values from the table above.\n",
    "\n",
    "(You will need to **return to this point** to enter the information of the remaining polymer pairs.)"
   ]
  },
  {
   "cell_type": "code",
   "execution_count": null,
   "id": "3dec2988",
   "metadata": {},
   "outputs": [],
   "source": [
    "# Enter the monomer names and variables\n",
    "m1Q = input(\"Name of monomer 1?     \")\n",
    "Q1=float(input(\"Q value for monomer 1=      \"))\n",
    "e1=float(input(\"e value for monomer 1=      \"))\n",
    "\n",
    "m2Q = input(\"Name of monomer 2?     \")\n",
    "Q2=float(input(\"Q value for monomer 2=      \"))\n",
    "e2=float(input(\"e value for monomer 2=      \"))\n",
    "\n",
    "# Generate the graph\n",
    "r1Q=(Q1/Q2)*np.exp(-e1*(e1-e2))\n",
    "r2Q=(Q2/Q1)*np.exp(-e2*(e2-e1))\n",
    "f1Q=np.arange(0,1.1,0.1)\n",
    "f2Q=1-f1Q\n",
    "F1Q=((r1Q*f1Q**2)+(f1Q*f2Q))/((r1Q*f1Q**2)+(2*f1Q*f2Q)+(r2Q*f2Q**2))\n",
    "fig, ax = plt.subplots()\n",
    "plt.grid()\n",
    "ax.plot(f1Q,F1Q)\n",
    "ax.set(xlabel= 'Fraction of '+m1Q+' in feed', ylabel='Fraction of '+m1Q+' in polymer', title='Copolymerization of '+m1Q+' and '+m2Q+'')\n",
    "\n",
    "ax.text(0.05, 0.95, name, transform=ax.transAxes, fontsize=12,\n",
    "       verticalalignment='top')\n",
    "\n",
    "plt.show()\n",
    "\n",
    "print (m1Q, \"- calculated r =\", f'{r1Q:.3}')\n",
    "print (m2Q, \"- calculated r =\" , f'{r2Q:.3}')"
   ]
  },
  {
   "cell_type": "markdown",
   "id": "93f305e6",
   "metadata": {},
   "source": [
    "You now need to use the **snipping tool** to capture the plot and the calculated r values. You will be doing the calculation multiple times and will generate a new plot each time. You **must** capture the plot each time.\n",
    "\n",
    "<font color=red>Once you have a plot saved for each of the **FIVE** scenarios, you are finished!"
   ]
  },
  {
   "cell_type": "markdown",
   "id": "0df1d692",
   "metadata": {},
   "source": [
    "**References**\n",
    "\n",
    "Stevens, M. P “Polymer Chemistry, an Introduction.\" 3rd ed.; Oxford University Press: New York, 1999. Chapter 6.\n",
    "\n",
    "Odian, G. “Principles of Polymerization,\" 4th ed., John Wiley: New York. 2004, Chapter 6.\n",
    "\n",
    "Carraher, C. E., “Carraher’s Polymer Chemistry,” 10th ed.; CRC Press: Boca Raton, 2018. Chapter 7.\n",
    "\n",
    "Allcock, H. R.: Lampe. F. W.; Mark, J. E. \"Contemporary Polymer Chemistry,\" 3rd ed.; Prentice-Hall: New Jersey, 2003, Chapter 12.\n",
    "\n",
    "Billmeyer. E W. Jr, \"Textbook of Polymer Science., Wiley-Interscience: New York, 1971, Chapter 9.\n",
    "\n",
    "Chandra, M. “Introduction to Polymer Science and Chemistry,” 2nd ed. CRC Press: Boca Raton, 2013, Chapter 7.\n",
    "\n",
    "Elias, H. –G. “An Introduction to Polymer Science,” VCH Publishers: New York, 1997, Chapter 3.\n",
    "\n",
    "Brandrup, J., Immergut, E., Grulke, E. A. “Polymer Handbook”, 4th ed. Wiley: New York. 1999, pp II/182 - II/288 and II/309 - II/319."
   ]
  }
 ],
 "metadata": {
  "kernelspec": {
   "display_name": "Python 3 (ipykernel)",
   "language": "python",
   "name": "python3"
  },
  "language_info": {
   "codemirror_mode": {
    "name": "ipython",
    "version": 3
   },
   "file_extension": ".py",
   "mimetype": "text/x-python",
   "name": "python",
   "nbconvert_exporter": "python",
   "pygments_lexer": "ipython3",
   "version": "3.9.7"
  }
 },
 "nbformat": 4,
 "nbformat_minor": 5
}
