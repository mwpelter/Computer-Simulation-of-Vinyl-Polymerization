{
 "cells": [
  {
   "cell_type": "markdown",
   "id": "7046ae43",
   "metadata": {},
   "source": [
    "$ \\LARGE \\textbf {Computer Simulation of Vinyl Polymerization:} $\n",
    "\n",
    "$ \\LARGE \\textbf {An Exercise in Critical Thinking} $"
   ]
  },
  {
   "cell_type": "markdown",
   "id": "5f9a142f",
   "metadata": {},
   "source": [
    "<font color=red>Are you working from a COPY of the master file? Always make a copy of the Jupyter Notebook Master File. Click on **File** then **Make a copy... **Close** this file and open the copy. (This is so when you mess up, you still have the original.) You may want to rename the copy to include your initials in the name."
   ]
  },
  {
   "cell_type": "markdown",
   "id": "a2b00a27",
   "metadata": {},
   "source": [
    "$ \\Large \\textbf {Introduction to Jupyter Notebook} $\n",
    "\n",
    "A jupyter notebook is composed of two different components: white cells that contain **text** (like this one), and shaded cells that contain **code** (like the one below). As you work through this notebook, you will need to execute each *code cell* by first clicking on the cell, it will be surrounded by a green box, and then clicking on the **Run** button above before moving on to the next cell. Code cells have **In [ ]** at the upper left corner.\n",
    "\n",
    "\n",
    "1. Execute the code cell below to run import statements that make available functions used in this notebook.  Note that this first block should be executed before any other code blocks in the notebook.\n",
    "\n",
    "\n",
    "2. To input your answers to the questions, run the code cell, fill in the blanks provided and press 'Enter'\n",
    "\n",
    "\n",
    "3. If you'd like to change your answer to a question or graph, you need to click on the x to clear the output and rerun the code cell(s).\n",
    "\n",
    "\n",
    "4. Large numbers should be entered as shown. Either, 1.37e7 and 9.16e-7 for an example."
   ]
  },
  {
   "cell_type": "code",
   "execution_count": null,
   "id": "6aae056e",
   "metadata": {
    "scrolled": true
   },
   "outputs": [],
   "source": [
    "import numpy as np\n",
    "import matplotlib.pyplot as plt\n",
    "from IPython.display import HTML\n",
    "from IPython.display import display, Math, Latex\n",
    "\n",
    "HTML('''<script>\n",
    "code_show=true;\n",
    "function code_toggle() {\n",
    " if (code_show){\n",
    " $('div.input').hide();\n",
    " } else {\n",
    " $('div.input').show();\n",
    " }\n",
    " code_show = !code_show\n",
    "}\n",
    "$( document ).ready(code_toggle);\n",
    "</script>\n",
    "<form action=\"javascript:code_toggle()\"><input type=\"submit\" value=\"Code\"></form>''')"
   ]
  },
  {
   "cell_type": "markdown",
   "id": "ea6c9b58",
   "metadata": {},
   "source": [
    "<font color=red>Click on the **Code** button above this line to make the code cells be visable again."
   ]
  },
  {
   "cell_type": "markdown",
   "id": "d82bf872",
   "metadata": {},
   "source": [
    "$ \\Large \\textbf {Learning Outcomes} $\n",
    "\n",
    "Upon completing this activity (CSVP-1, CSVP-2, & CSVP-3), students will be able to\n",
    "\n",
    "*   Understand the mechanism for the free radical polymerization of a vinyl monomer including the initiation and propagation steps and the different modes of termination.\n",
    "*   Understand the effect that monomer and initiator concentrations, termination mode, and temperature have on % conversion and molecular weight of the resulting polymer.\n",
    "*   Determine the monomer and initiator concentrations needed to reach % conversion and molecular weight targets for a given time with different monomers and initiators.\n",
    "*   Understand the meaning of the simulation and the relationship to experimental methods.\n"
   ]
  },
  {
   "cell_type": "markdown",
   "id": "4d801e9a",
   "metadata": {},
   "source": [
    "$ \\Large \\textbf {Part 1: The Investigation} $\n",
    "\n",
    "Monosubstituted olefins of the structure $CH_2 = CHX$ where X is some substituent can often be polymerized into high molecular weight polymers by heating in the presence of initiators.  Initiators are simply organic compounds that cleave heterolytically into ions or homolytically into radicals.  The radical or ion can then initiate polymerization.  A typical example is the polymerization of methyl methacrylate into \"Plexiglas\" initiated by benzoyl peroxide.\n",
    "\n",
    "![image.png](data:image/png;base64,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)"
   ]
  },
  {
   "cell_type": "markdown",
   "id": "ee10bce1",
   "metadata": {},
   "source": [
    "Before you begin the calculation, using the structures above:\n",
    "\n",
    "1. Show the homoolytic cleavage of the O-O bond in benzoyl peroxide. Above the arrow, write the symbol for the rate constant of decomposition, k<sub>d</sub>.\n",
    "\n",
    "2. Show the initiation reaction of a benzoyl radical with methyl methacrylate. Above the arrow, write the symbol for the rate constant of initiation, k<sub>i</sub>.\n",
    "\n",
    "3. Show the propagation reaction of the radical formed in 2 with methyl methacrylate. Above the arrow, write the symbol for the rate constant of propagation, k<sub>p</sub>.\n",
    "\n",
    "4. Using two of the radicals from 3, show how termination would proceed through combination. Above the arrow, write the symbol for the rate constant of termination, k<sub>tc</sub>.\n",
    "\n",
    "5. Using two of the radicals from 3, show how termination would proceed through disproportionation. Above the arrow, write the symbol for the rate constant of termination, kt<sub>td</sub>.\n",
    "\n",
    "6. Before you begin, predict the influence of monomer concentration, initiator concentration, temperature, termination mode will have on % conversion and molecular weight.  Complete the following table by double clicking on the table and replacing the **x** with **increase**, **decrease**, or **no change**. Don't worry about the spacing when typing. Click the **Run** button above when finished. (You will need to use the Snipping Tool to capture the table for your report.\n"
   ]
  },
  {
   "cell_type": "markdown",
   "id": "3d385b39",
   "metadata": {},
   "source": [
    "|  Variable |  % Conversion after 10 h   | Molecular Weight after 10 h    |\n",
    "|:--------:|:-----------------:|:-------------------:|\n",
    "| Increase [M]  | x      | x      |\n",
    "| Increase [I]        | x      | x      |\n",
    "| Termination mode* =1       | x      | x      |\n",
    "| Increase Temperature        | x      | x      |"
   ]
  },
  {
   "cell_type": "markdown",
   "id": "f8bf5728",
   "metadata": {},
   "source": [
    "*The termination mode ranges from 1 for pure combination to 2 for pure disproportionation. In this activity, methyl methacrylate has a termination mode of 1.8."
   ]
  },
  {
   "cell_type": "markdown",
   "id": "ef8c24a1",
   "metadata": {},
   "source": [
    "The “instantaneous rate of polymerization” can be calculated at any given instant using the equation below, because [I] and [M] decrease over the course of the polymerization, $R_p$ will vary. The derivation of this equation may be found in Appendix A of the handout."
   ]
  },
  {
   "cell_type": "markdown",
   "id": "04df4a70",
   "metadata": {},
   "source": [
    "$ \\LARGE R_{p}=-\\frac{d[M]}{dt}= k_{p}\\left(\\frac{fk_{d}[I]}{k_{t}}\\right)^{1/2} [M] $\n",
    "\n",
    "\n"
   ]
  },
  {
   "cell_type": "markdown",
   "id": "254bc1a8",
   "metadata": {},
   "source": [
    "In itself this equation has limited utility. From a practical viewpoint, it is more important to be able to know just how much polymer is prepared after a certain time interval. By substituting the result of the integration of the equation for depletion of initiator, $I=[I]_o e^-k_d t$, and rearranging and again integrating, the % conversion of any vinyl polymerization a t any reaction time t can be calculated:\n",
    "\n",
    "$ \\LARGE -ln\\frac{[M]}{[M]_{o}} = \\frac{2k_{p}}{k_{t}}\\left(\\frac{fk_{d}[I]_{o}}{k_{t}}\\right)^{1/2} ({e^{-(\\frac{k_{d}t}{2})}-1})$\n",
    "\n"
   ]
  },
  {
   "cell_type": "markdown",
   "id": "65e642b3",
   "metadata": {},
   "source": [
    "\n",
    "\n",
    "Where\n",
    "\n",
    "    [M] = monomer concentration at time t\n",
    "\t[M]o = initial monomer concentration\n",
    "\t[I]o = initial initiator concentration\n",
    "\tkp= propagation rate constant for the monomer\n",
    "\tkt = termination rate constant for the monomer\n",
    "\tkd = decomposition rate constant for the initiator\n",
    "\tf = initiator efficiency"
   ]
  },
  {
   "cell_type": "markdown",
   "id": "bc2a38e6",
   "metadata": {},
   "source": [
    "Knowing all variables, ${\\dfrac{[M]}{[M]_o}}$ can be calculated at any time t.  This quantity is simply the fraction of unreacted olefin or monomer at time t.  The fraction of reacted monomer that is now polymer is   $1-{\\dfrac{[M]}{[M]_o}}$ or in % form, i.e. % conversion:\n",
    "\n",
    "\n",
    "<font color='black'><h3 align=\"center\">$ Percent  Conversion = 1-{\\dfrac{[M]}{[M]_o}}$</h3></font>\n",
    "\n",
    "\n",
    "In addition to following the percentage conversion over the course of the polymerization, the progression of the number-average molecular weight $\\bar {M_{n}}$ also be calculated through the following equation.\n",
    "\n",
    "$ \\LARGE \\bar{M_{o}} = m \\left(\\frac{{[M]_o}-{[M]}}{fζ[I]_o-[I]}\\right) $"
   ]
  },
  {
   "cell_type": "markdown",
   "id": "248395f8",
   "metadata": {},
   "source": [
    "where\n",
    "\n",
    "\tm = molecular weight of the repeat unit\n",
    "\tζ = termination mode [value from 1 (pure combination) to 2 (pure disproportionation)]\n",
    "\t[I]=initiator concentration at time t"
   ]
  },
  {
   "cell_type": "markdown",
   "id": "fb15fab0",
   "metadata": {},
   "source": [
    "\n",
    "  Once the set of polymerization conditions have been determined calculate the % conversion and molecular weight at 10 minute intervals over 10 hours. Plot these values of % conversion vs time.  You now have a reaction profile of how the polymerization should proceed.  You can then monitor the reaction by experimentally determining the % conversion at any time and comparing it with your reaction profile.\n",
    "\n",
    "  This will be one of your assignments.  You will have to work fast and efficiently.  Solving these equations for one set of conditions will take about 10 minutes.  You will probably need to examine five sets of conditions to zero in on these conditions necessary to achieve a 90% yield in 8 hours.  You will then have to solve these equations 60 more times in order to construct your plot.  Thus, it will take you about 11 hours to complete this first part of the experiment.  If you make a mistake or work slowly, more time will be required.\n",
    "\n",
    "  By now, you should have figured out that the time estimates are based on you using a slide rule or nonprogrammable calculator. Fortunately, the following exercise will allow you to perform ALL of the calculations in a matter of seconds!\n",
    "\n",
    "  \n",
    "\n",
    "  **Run the code cell below and enter your name:**"
   ]
  },
  {
   "cell_type": "code",
   "execution_count": null,
   "id": "32b77b69",
   "metadata": {},
   "outputs": [],
   "source": [
    "name = input(\"Name:    \")"
   ]
  },
  {
   "cell_type": "markdown",
   "id": "3f213180",
   "metadata": {},
   "source": [
    "$ \\Large \\textbf {Section 1: Initial Values} $\n",
    "\n",
    "In the following sections, you will investigate the effect of the different variables on the rate of polymerization as measured by % conversion vs time and on the molecular weight for the polymerization of methyl methacrylate. Tables of values for $k_d$, $k_p$, and $k_t$ are provided. Values for [M], and [I] will be chosen by the experimenter. We have chosen initial values of 3 M and 0.005 M, respectively. The value of f, the initiator efficiency, is dependent on the actual initiator/monomer system and ranges from 0.6 to 1.0. We have chosen a value of 0.6 in the following example. Because this value remains constant in the exercises, whether or not the \"correct\" value is used has no bearing on the results. A one-liter solution of 3 M methyl methacrylate is heated to 50ºC. Benzoyl peroxide (0.005 moles) is added and the monomer allowed to polymerize.\n",
    "\n",
    "Under these conditions,  the following are true:\n",
    "\n",
    "\n",
    "| Constant                         |Value                                |\n",
    "| :----------------------------------|-----------------:|\n",
    "| **Propagation rate constant ($k_p$)** | $587$ 1/m-s          |\n",
    "| **Termination rate constant ($k_t$)** | $1.37e7$ 1/m-s       |\n",
    "| **Initiator decomposition rate constant ($k_d$)** |**9.16e-7**  1/m-s       |\n",
    "|**Initiator efficiency (f)**| $0.6$|\n",
    "|**Termination mode (ζ)**| $1.8$|\n",
    "|**Molecular weight of the repeating unit**| $100.12$ g/mol |\n",
    "|**Concentration of monomer (M)**| $3$ |\n",
    "|**Concentration of initiator (M)**| $0.005$|\n",
    "\n",
    "\n",
    "Since this activity is written to accommodate any monomer and free radical initiator pair, as you will see later, you will need to input the above values, but just in Section 1."
   ]
  },
  {
   "cell_type": "markdown",
   "id": "5be0908e",
   "metadata": {},
   "source": [
    "Run the next code cell to enter the values from the table above. The list of variable will print after the last one is entered. Double check the values that you just entered and make sure they are correct. If they are not, rerun the code cell and reenter the values, correctly this time."
   ]
  },
  {
   "cell_type": "code",
   "execution_count": null,
   "id": "88b16d55",
   "metadata": {},
   "outputs": [],
   "source": [
    "m = input(\"What is the name of the monomer?     \")\n",
    "i = input(\"What is the name initiator       \")\n",
    "T =input(\"What is the reaction temperature in deg C.   \")\n",
    "kp=float(input(\"Rate constant for propagation in 1/m-s.  \"))\n",
    "kt=float(input(\"Rate constant for termination in 1/m-s.  \"))\n",
    "kd=float(input(\"Rate constant for initiator decomposition in 1/m-s. \"))\n",
    "f=float(input(\"Initiator efficiency (0 to 1)  \"))\n",
    "z=float(input(\"What is the termination mode -  value from 1 (pure combination) to 2 (pure disproportionation).  \"))\n",
    "m1=float(input(\"What is the molecular weight of the repeating unit   \"))\n",
    "Io=float(input(\"What is the initial initiator concentration in M?       \"))\n",
    "Mo=float(input(\"What is the value for the initial monomer concentration in M?  \"))\n",
    "\n",
    "print(\"                                   \")\n",
    "print(\"Initial Values\")\n",
    "print(\"_______________\")\n",
    "print(\"Name of Monomer = \", m.center(10, \" \"))\n",
    "print(\"Name of Initiator = \", i.center(8, \" \"))\n",
    "print(\"Reaction Temperature\",T, \"C\")\n",
    "print(\"Rate constant for propagation =\", kp, \"1/m-s\")\n",
    "print(\"Termination Rate Constant =\", np.format_float_scientific(kt,2), \"1/m-s\")\n",
    "print(\"Rate constant for initiator decomposition =\", kd, \"1/m-s\")\n",
    "print(\"Initiator Efficieny =\", f)\n",
    "print(\"Termination mode =\", z)\n",
    "print(\"initial initiator concentration =\", Io, \"M\")\n",
    "print(\"initial monomer concentration =\", Mo, \"M\")\n",
    "print(\"Repeating Unit Weight =\" , m1, \"g/mol\")"
   ]
  },
  {
   "cell_type": "markdown",
   "id": "2d60f182",
   "metadata": {},
   "source": [
    "Run the next code cell to generate the plot of time vs % conversion and molecular weight. NOTE: The molecular weight y-axis goes from 10,000 to 1,000,000 (1e4 to 1e6)"
   ]
  },
  {
   "cell_type": "code",
   "execution_count": null,
   "id": "27d660ed",
   "metadata": {},
   "outputs": [],
   "source": [
    "#Time interval\n",
    "th = np.arange(0.0,12.0,0.2,dtype=float) #time in hours\n",
    "#np.arange creates a range of data between the set interval.\n",
    "# the format for this array is (start#,stop#,step#)\n",
    "\n",
    "t = th*3600 #time in hours was converted to seconds\n",
    "\n",
    "#Defining a function\n",
    "\n",
    "def func (x):\n",
    "    return (2*kp/kd)*((f*kd*Io/kt)**(1/2))*(np.exp(-kd*x/2)-1)\n",
    "\n",
    "func_v = func(t)\n",
    "\n",
    "\n",
    "MMo=np.exp(func_v)\n",
    "\n",
    "\n",
    "con=(1-MMo)*100\n",
    "x1=th\n",
    "y=con\n",
    "\n",
    "fig, ax1 = plt.subplots()\n",
    "\n",
    "plt.title(\"Section 1: Initial Values\")\n",
    "plt.grid()\n",
    "color = 'tab:red'\n",
    "ax1.set_xlabel('Time in Hours')\n",
    "ax1.set_ylabel('% Conversion', color=color)\n",
    "ax1.plot(x1, y, color=color)\n",
    "ax1.tick_params(axis='y', labelcolor=color)\n",
    "ax1 = plt.gca()\n",
    "ax1.set_ylim([0,100])\n",
    "ax1.set_xlim([0,10])\n",
    "\n",
    "np.seterr(divide='ignore', invalid='ignore')\n",
    "\n",
    "MMo2=np.array(MMo)\n",
    "\n",
    "M=MMo*Mo\n",
    "\n",
    "I=Io*np.exp(-kd*t)\n",
    "\n",
    "\n",
    "Mn=((Mo-M)/(f*z*(Io-I)))*100\n",
    "\n",
    "ax2 = ax1.twinx()  # instantiate a second axes that shares the same x-axis\n",
    "\n",
    "color2 = 'tab:blue'\n",
    "ax2.set_ylabel('Molecular Weight', color=color2)  # we already handled the x-label with ax1\n",
    "ax2.plot(th, Mn, color=color2)\n",
    "ax2.tick_params(axis='y', labelcolor=color2)\n",
    "\n",
    "ax2 = plt.gca()\n",
    "ax2.set_ylim([1e4,1e6]) # This line sets the Y axis limit\n",
    "ax2.set_xlim([0,10])\n",
    "\n",
    "ax2.text(0.05, 0.95, name, transform=ax2.transAxes, fontsize=12,\n",
    "       verticalalignment='top')\n",
    "\n",
    "\n",
    "plt.show()"
   ]
  },
  {
   "cell_type": "markdown",
   "id": "a2de4060",
   "metadata": {},
   "source": [
    "Run the next code cell to generate a table of data from the above 2 plots. You will need this data to complete the tables in the handout."
   ]
  },
  {
   "cell_type": "code",
   "execution_count": null,
   "id": "d9a3eb40",
   "metadata": {},
   "outputs": [],
   "source": [
    "time = np.round(np.array(th))\n",
    "molecular_weight = np.round(np.array(Mn), decimals=1)\n",
    "conversion = np.round(np.array(con), decimals=1)\n",
    "\n",
    "print(\"Results from the Initial Values\")\n",
    "print(\"Hour\",\"Molecular Weight\",\"Conversion\",sep='  ')\n",
    "print(\"______________________________________\")\n",
    "def c_function(time_step, time, molecular_weight, conversion):\n",
    "    \"\"\"This function takes a time step and returns a printed string with a summary of the vars\"\"\"\n",
    "    print(time[time_step],molecular_weight[time_step], conversion[time_step],sep=\"        \")\n",
    "for time_step in list(range(6,56,5)):\n",
    "    c_function(time_step, time, molecular_weight, conversion)"
   ]
  },
  {
   "cell_type": "markdown",
   "id": "e052486c",
   "metadata": {},
   "source": [
    "$ \\Large \\textbf {Section 2: Increase in Monomer Concentration} $"
   ]
  },
  {
   "cell_type": "markdown",
   "id": "c5510bcd",
   "metadata": {},
   "source": [
    "Run the next code cell to enter an monomer concentration greater than 3 M. The list of variable will print after the last one is entered. Double check the values that you just entered and make sure they are correct. If they are not, rerun the code cell and reenter the values, correctly this time."
   ]
  },
  {
   "cell_type": "code",
   "execution_count": null,
   "id": "b6e45c92",
   "metadata": {},
   "outputs": [],
   "source": [
    "Mo1=float(input(\"Enter a monomer concentration greater then 3 M.     \"))\n",
    "\n",
    "th = np.arange(0.0,12.0,0.2,dtype=float)\n",
    "t = th*3600\n",
    "\n",
    "kp=587\n",
    "kt=1.37e7\n",
    "kd=9.16e-7\n",
    "f=0.6\n",
    "z=1.8\n",
    "Io=0.005\n",
    "\n",
    "print(\"                                   \")\n",
    "print(\"Increase in Monomer Concentration Variables\")\n",
    "print(\"_____________________________________________\")\n",
    "print(\"Reaction Temperature = \",T, \"C\")\n",
    "print(\"Propagation Rate Constant = \", kp, \"1/m-s\")\n",
    "print(\"Termination Rate Constant =\", np.format_float_scientific(kt,2), \"1/m-s\")\n",
    "print(\"Decomposition rate constant = \", kd, \"1/m-s\")\n",
    "print(\"Initiator efficiency\", f)\n",
    "print(\"Termination Mode\", z)\n",
    "print(\"Initiator concentration\", Io ,\"M\")\n",
    "print(\"Monomer concentration\", Mo1, \"M\")"
   ]
  },
  {
   "cell_type": "markdown",
   "id": "1410fbd4",
   "metadata": {},
   "source": [
    "Run the next code cell to generate the plot of time vs % conversion and molecular weight. NOTE: The molecular weight y-axis goes from 10,000 to 1,000,000 (1e4 to 1e6)"
   ]
  },
  {
   "cell_type": "code",
   "execution_count": null,
   "id": "8f879ba0",
   "metadata": {},
   "outputs": [],
   "source": [
    "#Time interval\n",
    "th = np.arange(0.0,12.0,0.2,dtype=float) #time in hours\n",
    "#np.arange creates a range of data between the set interval.\n",
    "# the format for this array is (start#,stop#,step#)\n",
    "\n",
    "t = th*3600 #time in hours was converted to seconds\n",
    "\n",
    "#Defining a function\n",
    "\n",
    "def func (x):\n",
    "    return (2*kp/kd)*((f*kd*Io/kt)**(1/2))*(np.exp(-kd*x/2)-1)\n",
    "\n",
    "func_v = func(t)\n",
    "\n",
    "\n",
    "MMo=np.exp(func_v)\n",
    "\n",
    "\n",
    "con1=(1-MMo)*100\n",
    "x1=th\n",
    "y=con1\n",
    "\n",
    "fig, ax1 = plt.subplots()\n",
    "\n",
    "plt.title(\"Section 2: Increase Monomer Concentration\")\n",
    "plt.grid()\n",
    "color = 'tab:red'\n",
    "ax1.set_xlabel('Time in Hours')\n",
    "ax1.set_ylabel('% Conversion', color=color)\n",
    "ax1.plot(x1, y, color=color)\n",
    "ax1.tick_params(axis='y', labelcolor=color)\n",
    "ax1 = plt.gca()\n",
    "ax1.set_ylim([0,100])\n",
    "ax1.set_xlim([0,10])\n",
    "\n",
    "np.seterr(divide='ignore', invalid='ignore')\n",
    "\n",
    "MMo2=np.array(MMo)\n",
    "\n",
    "M=MMo*Mo1\n",
    "\n",
    "I=Io*np.exp(-kd*t)\n",
    "\n",
    "\n",
    "Mn1=((Mo1-M)/(f*z*(Io-I)))*100\n",
    "\n",
    "ax2 = ax1.twinx()  # instantiate a second axes that shares the same x-axis\n",
    "\n",
    "color2 = 'tab:blue'\n",
    "ax2.set_ylabel('Molecular Weight', color=color2)  # we already handled the x-label with ax1\n",
    "ax2.plot(th, Mn1, color=color2)\n",
    "ax2.tick_params(axis='y', labelcolor=color2)\n",
    "\n",
    "ax2 = plt.gca()\n",
    "ax2.set_ylim([1e4,1e6]) # This line sets the Y axis limit\n",
    "ax2.set_xlim([0,10])\n",
    "\n",
    "ax2.text(0.05, 0.95, name, transform=ax2.transAxes, fontsize=12,\n",
    "       verticalalignment='top')\n",
    "\n",
    "\n",
    "plt.show()"
   ]
  },
  {
   "cell_type": "markdown",
   "id": "83e6fcd6",
   "metadata": {},
   "source": [
    "<font color=red> **How does your graph look? Missing a line?** Run the next cell and look at the molecular weight data. If your molecular weight are above 1,000,000, you need to adjust the code so the data is visible.\n",
    "\n",
    "<font color=red> Look for the line <font color=green> \"ax.set_ylim([1e4,1e5]) # This line sets the Y axis limit\" <font color=red> in the code cell above. Change the second number to <font color=green> 2e6 <font color=red> and rerun the cell."
   ]
  },
  {
   "cell_type": "markdown",
   "id": "b7723525",
   "metadata": {},
   "source": [
    "Run the next code cell to generate a table of data from the above 2 plots. You will need this data to complete the tables in the handout."
   ]
  },
  {
   "cell_type": "code",
   "execution_count": null,
   "id": "77fb8778",
   "metadata": {},
   "outputs": [],
   "source": [
    "time = np.round(np.array(th))\n",
    "molecular_weightA = np.round(np.array(Mn1), decimals=1)\n",
    "conversionA = np.round(np.array(con1), decimals=1)\n",
    "\n",
    "print(\"Increase in Monomer Concentration Results\")\n",
    "print(\"Hour\",\"Molecular Weight\",\"Conversion\",sep='  ')\n",
    "print(\"______________________________________\")\n",
    "def c_function(time_step, time, molecular_weight, conversion):\n",
    "    \"\"\"This function takes a time step and returns a printed string with a summary of the vars\"\"\"\n",
    "    print(time[time_step],molecular_weightA[time_step], conversionA[time_step],sep=\"        \")\n",
    "for time_step in list(range(6,56,5)):\n",
    "    c_function(time_step, time, molecular_weight, conversion)"
   ]
  },
  {
   "cell_type": "markdown",
   "id": "70543a4c",
   "metadata": {},
   "source": [
    "$ \\Large \\textbf {Section 3: Increase in Initiator Concentration} $"
   ]
  },
  {
   "cell_type": "markdown",
   "id": "32cd4ca0",
   "metadata": {},
   "source": [
    "Run the next code cell to enter an initiator concentration greater then 0.005. Look at the printout of the values that you just entered and make sure they are correct. If they are not, rerun the code cell above and reenter the values, correctly this time."
   ]
  },
  {
   "cell_type": "code",
   "execution_count": null,
   "id": "cda5a295",
   "metadata": {},
   "outputs": [],
   "source": [
    "Io1=float(input(\"Enter an initiator concentration greater then 0.005 M.    \"))\n",
    "\n",
    "print(\"                                   \")\n",
    "print(\"Increase in Initiator Concentration\")\n",
    "print(\"___________________________________\")\n",
    "print(\"Reaction Temperature = \",T, \"C\")\n",
    "print(\"Propagation Rate Constant = \", kp, \"1/m-s\")\n",
    "print(\"Termination Rate Constant =\", np.format_float_scientific(kt,2), \"1/m-s\")\n",
    "print(\"Decomposition rate constant = \", kd, \"1/m-s\")\n",
    "print(\"Initiator efficiency\", f)\n",
    "print(\"Termination Mode\", z)\n",
    "print(\"Initiator concentration\", Io1 ,\"M\")\n",
    "print(\"Monomer concentration\", Mo, \"M\")"
   ]
  },
  {
   "cell_type": "markdown",
   "id": "37bb1be7",
   "metadata": {},
   "source": [
    "Run the next code cell to generate the plot of time vs % conversion and molecular weight. NOTE: The molecular weight y-axis goes from 10,000 to 1,000,000 (1e4 to 1e6)"
   ]
  },
  {
   "cell_type": "code",
   "execution_count": null,
   "id": "98818ffd",
   "metadata": {},
   "outputs": [],
   "source": [
    "#Time interval\n",
    "th = np.arange(0.0,12.0,0.2,dtype=float) #time in hours\n",
    "#np.arange creates a range of data between the set interval.\n",
    "# the format for this array is (start#,stop#,step#)\n",
    "\n",
    "t = th*3600 #time in hours was converted to seconds\n",
    "\n",
    "#Defining a function\n",
    "\n",
    "def func1 (x):\n",
    "    return (2*kp/kd)*((f*kd*Io1/kt)**(1/2))*(np.exp(-kd*x/2)-1)\n",
    "\n",
    "func_v1 = func1(t)\n",
    "\n",
    "\n",
    "MMo1=np.exp(func_v1)\n",
    "\n",
    "\n",
    "con2=(1-MMo1)*100\n",
    "x1=th\n",
    "y=con2\n",
    "\n",
    "fig, ax1 = plt.subplots()\n",
    "\n",
    "plt.title(\"Section 3: Increase Initiator Concentration\")\n",
    "plt.grid()\n",
    "color = 'tab:red'\n",
    "ax1.set_xlabel('Time in Hours')\n",
    "ax1.set_ylabel('% Conversion', color=color)\n",
    "ax1.plot(x1, y, color=color)\n",
    "ax1.tick_params(axis='y', labelcolor=color)\n",
    "ax1 = plt.gca()\n",
    "ax1.set_ylim([0,100])\n",
    "ax1.set_xlim([0,10])\n",
    "\n",
    "np.seterr(divide='ignore', invalid='ignore')\n",
    "\n",
    "MMo11=np.array(MMo1)\n",
    "\n",
    "M1=MMo1*Mo\n",
    "\n",
    "I=Io1*np.exp(-kd*t)\n",
    "\n",
    "\n",
    "Mn2=((Mo-M1)/(f*z*(Io1-I)))*100\n",
    "\n",
    "ax2 = ax1.twinx()  # instantiate a second axes that shares the same x-axis\n",
    "\n",
    "color2 = 'tab:blue'\n",
    "ax2.set_ylabel('Molecular Weight', color=color2)  # we already handled the x-label with ax1\n",
    "ax2.plot(th, Mn2, color=color2)\n",
    "ax2.tick_params(axis='y', labelcolor=color2)\n",
    "\n",
    "ax2 = plt.gca()\n",
    "ax2.set_ylim([1e4,1e6]) # This line sets the Y axis limit\n",
    "ax2.set_xlim([0,10])\n",
    "\n",
    "ax2.text(0.05, 0.95, name, transform=ax2.transAxes, fontsize=12,\n",
    "       verticalalignment='top')\n",
    "\n",
    "\n",
    "plt.show()"
   ]
  },
  {
   "cell_type": "markdown",
   "id": "5c19e856",
   "metadata": {},
   "source": [
    "Run the next code cell to generate a table of data from the above 2 plots. You will need this data to complete the tables in the handout."
   ]
  },
  {
   "cell_type": "code",
   "execution_count": null,
   "id": "4ffda096",
   "metadata": {},
   "outputs": [],
   "source": [
    "time = np.round(np.array(th))\n",
    "molecular_weightC = np.round(np.array(Mn2), decimals=1)\n",
    "conversionC = np.round(np.array(con2), decimals=1)\n",
    "\n",
    "print(\"Increase in Initiator Concentration Results\")\n",
    "print(\"Hour\",\"Molecular Weight\",\"Conversion\",sep='  ')\n",
    "print(\"______________________________________\")\n",
    "def c_function(time_step, time, molecular_weightB, conversionB):\n",
    "    \"\"\"This function takes a time step and returns a printed string with a summary of the vars\"\"\"\n",
    "    print(time[time_step],molecular_weightB[time_step], conversionB[time_step],sep=\"        \")\n",
    "for time_step in list(range(6,56,5)):\n",
    "    c_function(time_step, time, molecular_weight, conversion)"
   ]
  },
  {
   "cell_type": "markdown",
   "id": "53df54a9",
   "metadata": {},
   "source": [
    "$ \\Large \\textbf {Section 4: Change in Termination Mode} $\n",
    "\n",
    "For a given temperatures and monomer, only [M] and [I] are variables. The termination mode typically is a constant and cannot really be varied. However, it's instructive to see how each affects the rate of polymerization (as measured by the % conversion vs time profile) and the molecular weight of the polymer produced. Using the same values as in Section 1, you will change the\n",
    "termination mode to 100% combination (termination mode = 1)."
   ]
  },
  {
   "cell_type": "markdown",
   "id": "6605adb9",
   "metadata": {},
   "source": [
    "Run the next code cell to enter a value of 1 for the termination mode. Check the printout to make sure values that you just entered are correct. If they are not, rerun the code cell above and reenter the values, correctly this time."
   ]
  },
  {
   "cell_type": "code",
   "execution_count": null,
   "id": "4958dad6",
   "metadata": {},
   "outputs": [],
   "source": [
    "z2=float(input(\"Enter a value of 1 (one) for the termination mode.    \"))\n",
    "\n",
    "print(\"                                    \")\n",
    "print(\"Change in Termination Mode Values\")\n",
    "print(\"___________________________________\")\n",
    "print(\"Reaction Temperature = \",T, \"C\")\n",
    "print(\"Propagation Rate Constant = \", kp, \"1/m-s\")\n",
    "print(\"Termination Rate Constant =\", np.format_float_scientific(kt,2), \"1/m-s\")\n",
    "print(\"Decomposition rate constant = \", kd, \"1/m-s\")\n",
    "print(\"Initiator efficiency\", f)\n",
    "print(\"Termination Mode\", z2)\n",
    "print(\"Initiator concentration\", Io ,\"M\")\n",
    "print(\"Monomer concentration\", Mo, \"M\")"
   ]
  },
  {
   "cell_type": "markdown",
   "id": "86841889",
   "metadata": {},
   "source": [
    "Run the next code cell to generate the plot of time vs % conversion and molecular weight. NOTE: The molecular weight y-axis goes from 10,000 to 1,000,000 (1e4 to 1e6)"
   ]
  },
  {
   "cell_type": "code",
   "execution_count": null,
   "id": "58a3ba3a",
   "metadata": {},
   "outputs": [],
   "source": [
    "#Time interval\n",
    "th = np.arange(0.0,12.0,0.2,dtype=float) #time in hours\n",
    "#np.arange creates a range of data between the set interval.\n",
    "# the format for this array is (start#,stop#,step#)\n",
    "\n",
    "t = th*3600 #time in hours was converted to seconds\n",
    "\n",
    "#Defining a function\n",
    "\n",
    "def func3 (x):\n",
    "    return (2*kp/kd)*((f*kd*Io/kt)**(1/2))*(np.exp(-kd*x/2)-1)\n",
    "\n",
    "func_v3 = func3(t)\n",
    "\n",
    "\n",
    "MMo3=np.exp(func_v3)\n",
    "\n",
    "\n",
    "con3=(1-MMo3)*100\n",
    "x1=th\n",
    "y=con3\n",
    "\n",
    "fig, ax1 = plt.subplots()\n",
    "\n",
    "plt.title(\"Section 4: Termination Mode\")\n",
    "plt.grid()\n",
    "color = 'tab:red'\n",
    "ax1.set_xlabel('Time in Hours')\n",
    "ax1.set_ylabel('% Conversion', color=color)\n",
    "ax1.plot(x1, y, color=color)\n",
    "ax1.tick_params(axis='y', labelcolor=color)\n",
    "ax1 = plt.gca()\n",
    "ax1.set_ylim([0,100])\n",
    "ax1.set_xlim([0,10])\n",
    "\n",
    "np.seterr(divide='ignore', invalid='ignore')\n",
    "\n",
    "MMo3=np.array(MMo)\n",
    "\n",
    "M3=MMo3*Mo\n",
    "\n",
    "I=Io*np.exp(-kd*t)\n",
    "\n",
    "\n",
    "Mn3=((Mo-M3)/(f*z2*(Io-I)))*100\n",
    "\n",
    "ax2 = ax1.twinx()  # instantiate a second axes that shares the same x-axis\n",
    "\n",
    "color2 = 'tab:blue'\n",
    "ax2.set_ylabel('Molecular Weight', color=color2)  # we already handled the x-label with ax1\n",
    "ax2.plot(th, Mn3, color=color2)\n",
    "ax2.tick_params(axis='y', labelcolor=color2)\n",
    "\n",
    "ax2 = plt.gca()\n",
    "ax2.set_ylim([1e4,1e6]) # This line sets the Y axis limit\n",
    "ax2.set_xlim([0,10])\n",
    "\n",
    "ax2.text(0.05, 0.95, name, transform=ax2.transAxes, fontsize=12,\n",
    "       verticalalignment='top')\n",
    "\n",
    "\n",
    "plt.show()"
   ]
  },
  {
   "cell_type": "markdown",
   "id": "87b5e15d",
   "metadata": {},
   "source": [
    "Run the next code cell to generate a table of data from the above 2 plots. You will need this data to complete the tables in the handout."
   ]
  },
  {
   "cell_type": "code",
   "execution_count": null,
   "id": "a4c8b4e8",
   "metadata": {},
   "outputs": [],
   "source": [
    "time = np.round(np.array(th))\n",
    "molecular_weightD = np.round(np.array(Mn3), decimals=1)\n",
    "conversionD = np.round(np.array(con3), decimals=1)\n",
    "\n",
    "print(\"Change in Termination Mode Results\")\n",
    "print(\"Hour\",\"Molecular Weight\",\"Conversion\",sep='  ')\n",
    "print(\"______________________________________\")\n",
    "def c_function(time_step, time, molecular_weight, conversion):\n",
    "    \"\"\"This function takes a time step and returns a printed string with a summary of the vars\"\"\"\n",
    "    print(time[time_step],molecular_weightD[time_step], conversionD[time_step],sep=\"        \")\n",
    "for time_step in list(range(6,56,5)):\n",
    "    c_function(time_step, time, molecular_weight, conversion)"
   ]
  },
  {
   "cell_type": "markdown",
   "id": "247d1775",
   "metadata": {},
   "source": [
    "$ \\Large \\textbf {Section 5: Change in temperature} $\n",
    "\n",
    "Now you will investigate the effect of temperature on the rate of polymerization. While Section 1 is set up for values corresponding to different temperatures, you will use an alternate method here. Temperature changes the rate constants for reactions, many of which obey the following\n",
    "equation:\n",
    "\n",
    "\n",
    "\n",
    "   >$\\large k = Ae^\\left( \\frac{Ea}{RT} \\right)$\n",
    "\n",
    ">where A = pre-exponential factor in s-1\n",
    "\n",
    ">Ea = activation energy in cal/mole\n",
    "\n",
    ">T = absolute temperature\n",
    "\n",
    ">R = ideal gas constant (1.987 cal/mol-K)\n",
    "\n",
    "You will use the following A and Ea values, from which the rate constants will be calculated. All\n",
    "other values are the same as in section 1.\n",
    "\n",
    "\n",
    "| At 70 $^{\\circ}$C:               |A(s-1)        |Ea(kcal/mole)     |\n",
    "| :----------------------|:------------:|-----------------:|\n",
    "| Methyl Methacrylate kp | 8.7e5        | 4.7              |\n",
    "| Methyl Methacrylate kt | 9.1e8        | 2.7              |\n",
    "| Benzoyl Peroxide    kd | 1.58e14      | 30.0             |\n",
    "  "
   ]
  },
  {
   "cell_type": "markdown",
   "id": "2f322176",
   "metadata": {},
   "source": [
    "Run the next code cell to enter a values provided above. Check the printout to make sure values that you just entered are correct. If they are not, rerun the code cell above and reenter the values, correctly this time. **Watch your units!**"
   ]
  },
  {
   "cell_type": "code",
   "execution_count": null,
   "id": "be8422e2",
   "metadata": {},
   "outputs": [],
   "source": [
    "th = np.arange(0.0,12.0,0.2,dtype=float)\n",
    "t = th*3600\n",
    "\n",
    "R=float(input(\"Input the value of the ideal gas constant in cal/mol-K.     \"))\n",
    "Ta=float(input(\"Input the temperature value in degrees Kelvin.    \"))\n",
    "\n",
    "A=float(input(\"Input the value of A for the propagation rate constant.     \"))\n",
    "E=float(input(\"Input the value of Ea for the propagation rate constant in cal/mole.    \"))\n",
    "\n",
    "s=(-E/(R*Ta))\n",
    "KP=(np.exp(s))*A\n",
    "\n",
    "Aone=float(input(\"Input the value of A for the termination rate constant:   \"))\n",
    "Eone=float(input(\"Input the value of Ea for the termination rate constant in cal/mole:   \"))\n",
    "\n",
    "KT=(np.exp(-Eone/(R*Ta)))*Aone\n",
    "\n",
    "Atwo=float(input(\"Input the value of A for the decomposition rate constant:   \"))\n",
    "Etwo=float(input(\"Input the value of Ea for the decomposition rate constant in cal/mole:   \"))\n",
    "\n",
    "KD=(np.exp(-Etwo/(R*Ta)))*Atwo\n",
    "\n",
    "print(\"                                   \")\n",
    "print(\"Change in Temperature Values\")\n",
    "print(\"____________________________\")\n",
    "print(\"Temperature:\", Ta, \"K\")\n",
    "print(\"Propagation Rate Constant:\", np.round(KP,1), \"1/m-s\")\n",
    "print(\"Termination Rate Constant:\", np.format_float_scientific(KT,2), \"1/m-s\")\n",
    "print(\"Decomposition rate constant:\", np.format_float_scientific(KD,2), \"1/m-s\")\n",
    "print(\"Initiator efficiency\", f)\n",
    "print(\"Termination Mode\", z)\n",
    "print(\"Initiator concentration\", Io ,\"M\")\n",
    "print(\"Monomer concentration\", Mo, \"M\")\n",
    "print(\"Repeating Unit Weight =\" , m1, \"g/mol\")"
   ]
  },
  {
   "cell_type": "markdown",
   "id": "062b4f2e",
   "metadata": {},
   "source": [
    "Run the next code cell to generate the plot of time vs % conversion and molecular weight. NOTE: The molecular weight y-axis goes from 10,000 to 1,000,000 (1e4 to 1e6)"
   ]
  },
  {
   "cell_type": "code",
   "execution_count": null,
   "id": "d8178645",
   "metadata": {},
   "outputs": [],
   "source": [
    "#Time interval\n",
    "th = np.arange(0.0,12.0,0.2,dtype=float) #time in hours\n",
    "#np.arange creates a range of data between the set interval.\n",
    "# the format for this array is (start#,stop#,step#)\n",
    "\n",
    "t = th*3600 #time in hours was converted to seconds\n",
    "\n",
    "#Defining a function\n",
    "\n",
    "def funcA (x):\n",
    "    return (2*KP/KD)*((f*KD*Io/KT)**(1/2))*(np.exp(-KD*x/2)-1)\n",
    "\n",
    "func_vA = funcA(t)\n",
    "\n",
    "\n",
    "MMoT=np.exp(func_vA)\n",
    "\n",
    "\n",
    "conT=(1-MMoT)*100\n",
    "x1=th\n",
    "y=conT\n",
    "\n",
    "fig, ax1 = plt.subplots()\n",
    "\n",
    "plt.title(\"Section 5: Temperature Change\")\n",
    "plt.grid()\n",
    "color = 'tab:red'\n",
    "ax1.set_xlabel('Time in Hours')\n",
    "ax1.set_ylabel('% Conversion', color=color)\n",
    "ax1.plot(x1, y, color=color)\n",
    "ax1.tick_params(axis='y', labelcolor=color)\n",
    "ax1 = plt.gca()\n",
    "ax1.set_ylim([0,100])\n",
    "ax1.set_xlim([0,10])\n",
    "\n",
    "np.seterr(divide='ignore', invalid='ignore')\n",
    "\n",
    "MMoTa=np.array(MMoT)\n",
    "\n",
    "MT=MMoTa*Mo\n",
    "\n",
    "IA=Io*np.exp(-KD*t)\n",
    "\n",
    "\n",
    "MnA=((Mo-MT)/(f*z*(Io-IA)))*100\n",
    "\n",
    "ax2 = ax1.twinx()  # instantiate a second axes that shares the same x-axis\n",
    "\n",
    "color2 = 'tab:blue'\n",
    "ax2.set_ylabel('Molecular Weight', color=color2)  # we already handled the x-label with ax1\n",
    "ax2.plot(th, MnA, color=color2)\n",
    "ax2.tick_params(axis='y', labelcolor=color2)\n",
    "\n",
    "ax2 = plt.gca()\n",
    "ax2.set_ylim([1e4,1e6]) # This line sets the Y axis limit\n",
    "ax2.set_xlim([0,10])\n",
    "\n",
    "ax2.text(0.05, 0.95, name, transform=ax2.transAxes, fontsize=12,\n",
    "       verticalalignment='top')\n",
    "\n",
    "\n",
    "plt.show()"
   ]
  },
  {
   "cell_type": "markdown",
   "id": "3da1269a",
   "metadata": {},
   "source": [
    "Run the next code cell to generate a table of data from the above 2 plots. You will need this data to complete the tables in the handout."
   ]
  },
  {
   "cell_type": "code",
   "execution_count": null,
   "id": "28b1c98d",
   "metadata": {},
   "outputs": [],
   "source": [
    "time = np.round(np.array(th))\n",
    "molecular_weightTA = np.round(np.array(MnA), decimals=1)\n",
    "conversionT = np.round(np.array(conT), decimals=1)\n",
    "\n",
    "print(\"Change in Temperature Results\")\n",
    "print(\"Time\",\"Molecular Weight\",\"Conversion\",sep='  ')\n",
    "print(\"______________________________________\")\n",
    "def c_function(time_step, time, molecular_weight, conversion):\n",
    "    \"\"\"This function takes a time step and returns a printed string with a summary of the vars\"\"\"\n",
    "    print(time[time_step],molecular_weightTA[time_step], conversionT[time_step],sep=\"        \")\n",
    "for time_step in list(range(6,56,5)):\n",
    "    c_function(time_step, time, molecular_weight, conversion)"
   ]
  },
  {
   "cell_type": "markdown",
   "id": "305a15aa",
   "metadata": {},
   "source": [
    "$ \\Large \\textbf {Summary of Results} $\n",
    "\n",
    "This section allows to easily compare all of the data you have generated, using both plots and tables. Instructions are provided to allow you to easily export these to your report."
   ]
  },
  {
   "cell_type": "markdown",
   "id": "fcce7cf2",
   "metadata": {},
   "source": [
    "Run the next code cell to plot the data from above on a single plot. The plot will automatically save as **conversion.png**. Select the file from the list to download."
   ]
  },
  {
   "cell_type": "code",
   "execution_count": null,
   "id": "2491700a",
   "metadata": {},
   "outputs": [],
   "source": [
    "column_name_y= '% Conversion'\n",
    "column_name_x= 'Time (h)'\n",
    "\n",
    "plt.plot(th,con, label='Initial')\n",
    "plt.plot(th,con1, label='[M]')\n",
    "plt.plot(th,con2, label= '[I]')\n",
    "plt.plot(th,con3, label= 'Term Mode')\n",
    "plt.plot(th,conT, label= 'Temp')\n",
    "\n",
    "plt.legend()\n",
    "plt.ylabel(column_name_y)\n",
    "plt.xlabel(column_name_x)\n",
    "plt.grid()\n",
    "plt.xlim(0, 10)\n",
    "\n",
    "# displaying the title\n",
    "plt.title(f'CSVP-1: Time vs % Conversion - {name}')\n",
    "\n",
    "# This line saves the figure to a file.  The savefig command must be called before the show command if both are used with the same plot.\n",
    "plt.savefig('conversion.png', dpi=300, bbox_inches='tight')\n",
    "\n",
    "plt.show()"
   ]
  },
  {
   "cell_type": "markdown",
   "id": "90c874bb",
   "metadata": {},
   "source": [
    "Run the next code cell to generate the table of your combined % conversion data."
   ]
  },
  {
   "cell_type": "code",
   "execution_count": null,
   "id": "8442e855",
   "metadata": {},
   "outputs": [],
   "source": [
    "time = np.round(np.array(th))\n",
    "conversion = np.round(np.array(con), decimals=1)\n",
    "conversion1 = np.round(np.array(con1), decimals=1)\n",
    "conversion2 = np.round(np.array(con2), decimals=1)\n",
    "conversion3 = np.round(np.array(con3), decimals=1)\n",
    "conversionT = np.round(np.array(conT), decimals=1)\n",
    "\n",
    "print(\"CSVP-1: Time vs % Conversion Results\")\n",
    "print(\"Hour\",\"Initial\", \"[M]\", \"[I]\", \"TermMode\", \"Temp\", sep=' ')\n",
    "\n",
    "def c_function(time_step, time, molecular_weight, conversion):\n",
    "    \"\"\"This function takes a time step and returns a printed string with a summary of the vars\"\"\"\n",
    "    print(time[time_step], conversion[time_step], conversion1[time_step], conversion2[time_step], conversion3[time_step], conversionT[time_step], sep=\" \")\n",
    "for time_step in list(range(6,56,5)):\n",
    "    c_function(time_step, time, molecular_weight, conversion)"
   ]
  },
  {
   "cell_type": "markdown",
   "id": "4b2c594f",
   "metadata": {},
   "source": [
    "To move the table of data to MSWord, highlight and copy the data and paste it into your Word document. Highlight all of the data **except** the line starting with CSVP-1. Select **Insert** $ \\implies $ **Table** $ \\implies $ **Convert text to table**. The popup box should look like the one shown below. The only change you need to make is to select **Other** and put a **single space** in the box. Click **OK**. Impoving the appearance of the table is now up to you!\n",
    "![image.png](data:image/png;base64,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)"
   ]
  },
  {
   "cell_type": "markdown",
   "id": "5463f7e3",
   "metadata": {},
   "source": [
    "Run the next code cell to plot the data from above on a single plot. The plot will automatically save as **MWplot.png**. Select the file from the list to download."
   ]
  },
  {
   "cell_type": "code",
   "execution_count": null,
   "id": "18afee37",
   "metadata": {},
   "outputs": [],
   "source": [
    "column_name_y= 'Molecular Weight'\n",
    "column_name_x= 'Time (h)'\n",
    "\n",
    "plt.plot(th,Mn, label='Initial')\n",
    "plt.plot(th,Mn1, label='[M]')\n",
    "plt.plot(th,Mn2, label= '[I]')\n",
    "plt.plot(th,Mn3, label= 'Term Mode')\n",
    "plt.plot(th,MnA, label= 'Temp')\n",
    "\n",
    "plt.legend(loc='upper left')\n",
    "plt.ylabel(column_name_y)\n",
    "plt.xlabel(column_name_x)\n",
    "plt.grid()\n",
    "plt.xlim(0, 10)\n",
    "\n",
    "plt.title(f'CSVP-1: Time vs Molecular Weight - {name}')\n",
    "\n",
    "# This line saves the figure to a file.  The savefig command must be called before the show command if both are used with the same plot.\n",
    "plt.savefig('MWplot.png', dpi=300, bbox_inches='tight')\n",
    "\n",
    "plt.show()"
   ]
  },
  {
   "cell_type": "markdown",
   "id": "78efdf0e",
   "metadata": {},
   "source": [
    "Run the next code cell to generate the table of your combined molecular weight data."
   ]
  },
  {
   "cell_type": "code",
   "execution_count": null,
   "id": "93be4d06",
   "metadata": {},
   "outputs": [],
   "source": [
    "time = np.round(np.array(th))\n",
    "MW = np.round(np.array(Mn), decimals=1)\n",
    "MW1 = np.round(np.array(Mn1), decimals=1)\n",
    "MW2 = np.round(np.array(Mn2), decimals=1)\n",
    "MW3 = np.round(np.array(Mn3), decimals=1)\n",
    "MWT = np.round(np.array(MnA), decimals=1)\n",
    "\n",
    "print(\"CSVP-1: Time vs Molecular Weight\")\n",
    "print(\"Hour\",\"Initial\", \"[M]\", \"[I]\", \"TermMode\", \"Temp\", sep=' ')\n",
    "\n",
    "def c_function(time_step, time, molecular_weight, conversion):\n",
    "    \"\"\"This function takes a time step and returns a printed string with a summary of the vars\"\"\"\n",
    "    print(time[time_step], MW[time_step], MW1[time_step], MW2[time_step], MW3[time_step], MWT[time_step], sep=\" \")\n",
    "for time_step in list(range(6,56,5)):\n",
    "    c_function(time_step, time, molecular_weight, conversion)"
   ]
  },
  {
   "cell_type": "markdown",
   "id": "a4c528aa",
   "metadata": {},
   "source": [
    "Use the instructions above to export the table of molecular weight data to your Word document."
   ]
  },
  {
   "cell_type": "markdown",
   "id": "f3cb2118",
   "metadata": {},
   "source": [
    "As you did above, summarize the influence of monomer concentration, initiator concentration, temperature, termination mode will have on % conversion and molecular weight in the table below with **increase**, **decrease**, or **no change**. Again, use the Snipping Tool to capture the table for your report."
   ]
  },
  {
   "cell_type": "markdown",
   "id": "ec7fd7de",
   "metadata": {},
   "source": [
    "|  Variable |  % Conversion after 10 h   | Molecular Weight after 10 h    |\n",
    "|:--------:|:-----------------:|:-------------------:|\n",
    "| Increase [M]  | x      | x      |\n",
    "| Increase [I]        | x      | x      |\n",
    "| Termination mode =1       | x      | x      |\n",
    "| Increase Temperature        | x      | x      |"
   ]
  },
  {
   "cell_type": "markdown",
   "id": "9e23e2ce",
   "metadata": {},
   "source": [
    "7. In the text box below, discuss how your findings compare with your predictions in Question 6? Click on the **Run** button when finished."
   ]
  },
  {
   "cell_type": "markdown",
   "id": "dc5b5fd3",
   "metadata": {},
   "source": [
    "Double click here to type your answer."
   ]
  },
  {
   "cell_type": "markdown",
   "id": "b27a0fe9",
   "metadata": {},
   "source": [
    "8. In the Text box below, explain why each change has the observed effect on % conversion and molecular weight. Click on the **Run** button when finished."
   ]
  },
  {
   "cell_type": "markdown",
   "id": "b1571c86",
   "metadata": {},
   "source": [
    "Double click here to type your answer."
   ]
  },
  {
   "cell_type": "markdown",
   "id": "f6d21ceb",
   "metadata": {},
   "source": [
    "$ \\Large \\textbf {What do I do next?} $"
   ]
  },
  {
   "cell_type": "markdown",
   "id": "4a784ac7",
   "metadata": {},
   "source": [
    "I'm glad you asked. Print your completed notebook as a PDF file. Save [Ctrl+S] and close the file. Your results will still be there.\n",
    "\n",
    "Now that you have completed the initial studies, right click on CSVP-2.ipynb to copy and rename the file as you did above. You are now ready for the “real life” assignment. Open your file and follow the instructions provided therein."
   ]
  },
  {
   "cell_type": "markdown",
   "id": "d02dabfb",
   "metadata": {},
   "source": [
    "**References**\n",
    "\n",
    "Stevens, M. P. “Polymer Chemistry, an Introduction.\" 3rd ed.; Oxford University Press: New York, 1999. Chapter 6.\n",
    "\n",
    "Odian, G. “Principles of Polymerization,\" 4th ed., John Wiley: New York. 2004, Chapter 3.\n",
    "\n",
    "Carraher, C. E., “Carraher’s Polymer Chemistry,” 10th ed.; CRC Press: Boca Raton, 2018. Chapter 6.\n",
    "\n",
    "Allcock, H. R.: Lampe. F. W.; Mark, J. E. \"Contemporary Polymer Chemistry,\" 3rd ed.; Prentice-Hall: New Jersey, 2003, Chapter 12.\n",
    "\n",
    "Billmeyer. E W. Jr, \"Textbook of Polymer Science., Wiley-Interscience: New York, 1971, Chapter 9.\n",
    "\n",
    "Chandra, M. “Introduction to Polymer Science and Chemistry,” 2nd ed. CRC Press: Boca Raton, 2013, Chapter 6.\n",
    "\n",
    "Elias, H. –G. “An Introduction to Polymer Science,” VCH Publishers: New York, 1997, Chapter 3."
   ]
  }
 ],
 "metadata": {
  "kernelspec": {
   "display_name": "Python 3 (ipykernel)",
   "language": "python",
   "name": "python3"
  },
  "language_info": {
   "codemirror_mode": {
    "name": "ipython",
    "version": 3
   },
   "file_extension": ".py",
   "mimetype": "text/x-python",
   "name": "python",
   "nbconvert_exporter": "python",
   "pygments_lexer": "ipython3",
   "version": "3.11.9"
  }
 },
 "nbformat": 4,
 "nbformat_minor": 5
}
